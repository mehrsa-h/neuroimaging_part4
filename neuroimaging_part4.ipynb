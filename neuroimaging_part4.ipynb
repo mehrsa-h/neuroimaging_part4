{
 "cells": [
  {
   "cell_type": "code",
   "execution_count": 1,
   "metadata": {},
   "outputs": [],
   "source": [
    "import pandas as pd\n",
    "import matplotlib.pyplot as plt\n",
    "import seaborn as sns\n",
    "import numpy as np\n",
    "%matplotlib inline"
   ]
  },
  {
   "cell_type": "code",
   "execution_count": 2,
   "metadata": {},
   "outputs": [
    {
     "data": {
      "text/html": [
       "<div>\n",
       "<style scoped>\n",
       "    .dataframe tbody tr th:only-of-type {\n",
       "        vertical-align: middle;\n",
       "    }\n",
       "\n",
       "    .dataframe tbody tr th {\n",
       "        vertical-align: top;\n",
       "    }\n",
       "\n",
       "    .dataframe thead th {\n",
       "        text-align: right;\n",
       "    }\n",
       "</style>\n",
       "<table border=\"1\" class=\"dataframe\">\n",
       "  <thead>\n",
       "    <tr style=\"text-align: right;\">\n",
       "      <th></th>\n",
       "      <th>0</th>\n",
       "      <th>1</th>\n",
       "    </tr>\n",
       "  </thead>\n",
       "  <tbody>\n",
       "    <tr>\n",
       "      <th>0</th>\n",
       "      <td>Kevin</td>\n",
       "      <td>Soul</td>\n",
       "    </tr>\n",
       "    <tr>\n",
       "      <th>1</th>\n",
       "      <td>haha</td>\n",
       "      <td>boston</td>\n",
       "    </tr>\n",
       "  </tbody>\n",
       "</table>\n",
       "</div>"
      ],
      "text/plain": [
       "       0       1\n",
       "0  Kevin    Soul\n",
       "1   haha  boston"
      ]
     },
     "execution_count": 2,
     "metadata": {},
     "output_type": "execute_result"
    }
   ],
   "source": [
    "#create a table using pandas\n",
    "df=pd.DataFrame(data = [['Kevin','Soul'],['haha','boston']])\n",
    "df"
   ]
  },
  {
   "cell_type": "code",
   "execution_count": 3,
   "metadata": {},
   "outputs": [
    {
     "data": {
      "text/html": [
       "<div>\n",
       "<style scoped>\n",
       "    .dataframe tbody tr th:only-of-type {\n",
       "        vertical-align: middle;\n",
       "    }\n",
       "\n",
       "    .dataframe tbody tr th {\n",
       "        vertical-align: top;\n",
       "    }\n",
       "\n",
       "    .dataframe thead th {\n",
       "        text-align: right;\n",
       "    }\n",
       "</style>\n",
       "<table border=\"1\" class=\"dataframe\">\n",
       "  <thead>\n",
       "    <tr style=\"text-align: right;\">\n",
       "      <th></th>\n",
       "      <th>names</th>\n",
       "      <th>city</th>\n",
       "    </tr>\n",
       "  </thead>\n",
       "  <tbody>\n",
       "    <tr>\n",
       "      <th>0</th>\n",
       "      <td>Kevin</td>\n",
       "      <td>Soul</td>\n",
       "    </tr>\n",
       "    <tr>\n",
       "      <th>1</th>\n",
       "      <td>haha</td>\n",
       "      <td>boston</td>\n",
       "    </tr>\n",
       "  </tbody>\n",
       "</table>\n",
       "</div>"
      ],
      "text/plain": [
       "   names    city\n",
       "0  Kevin    Soul\n",
       "1   haha  boston"
      ]
     },
     "execution_count": 3,
     "metadata": {},
     "output_type": "execute_result"
    }
   ],
   "source": [
    "#make columns\n",
    "df=pd.DataFrame(data = [['Kevin','Soul'],['haha','boston']],\n",
    "               columns=['names','city'])\n",
    "df"
   ]
  },
  {
   "cell_type": "code",
   "execution_count": 4,
   "metadata": {},
   "outputs": [
    {
     "data": {
      "text/html": [
       "<div>\n",
       "<style scoped>\n",
       "    .dataframe tbody tr th:only-of-type {\n",
       "        vertical-align: middle;\n",
       "    }\n",
       "\n",
       "    .dataframe tbody tr th {\n",
       "        vertical-align: top;\n",
       "    }\n",
       "\n",
       "    .dataframe thead th {\n",
       "        text-align: right;\n",
       "    }\n",
       "</style>\n",
       "<table border=\"1\" class=\"dataframe\">\n",
       "  <thead>\n",
       "    <tr style=\"text-align: right;\">\n",
       "      <th></th>\n",
       "      <th>names</th>\n",
       "      <th>city</th>\n",
       "      <th>age</th>\n",
       "    </tr>\n",
       "  </thead>\n",
       "  <tbody>\n",
       "    <tr>\n",
       "      <th>0</th>\n",
       "      <td>kevin</td>\n",
       "      <td>seoul</td>\n",
       "      <td>31</td>\n",
       "    </tr>\n",
       "    <tr>\n",
       "      <th>1</th>\n",
       "      <td>koko</td>\n",
       "      <td>boston</td>\n",
       "      <td>30</td>\n",
       "    </tr>\n",
       "    <tr>\n",
       "      <th>2</th>\n",
       "      <td>haha</td>\n",
       "      <td>lA</td>\n",
       "      <td>66</td>\n",
       "    </tr>\n",
       "    <tr>\n",
       "      <th>3</th>\n",
       "      <td>kevin</td>\n",
       "      <td>san francisco</td>\n",
       "      <td>33</td>\n",
       "    </tr>\n",
       "  </tbody>\n",
       "</table>\n",
       "</div>"
      ],
      "text/plain": [
       "   names           city  age\n",
       "0  kevin          seoul   31\n",
       "1   koko         boston   30\n",
       "2   haha             lA   66\n",
       "3  kevin  san francisco   33"
      ]
     },
     "execution_count": 4,
     "metadata": {},
     "output_type": "execute_result"
    }
   ],
   "source": [
    "df=pd.DataFrame(data = [['kevin','seoul',31],['koko','boston',30],\n",
    "                ['haha','lA',66],['kevin','san francisco',33]],\n",
    "                columns=['names','city','age'])\n",
    "df\n"
   ]
  },
  {
   "cell_type": "code",
   "execution_count": 5,
   "metadata": {},
   "outputs": [
    {
     "data": {
      "text/html": [
       "<div>\n",
       "<style scoped>\n",
       "    .dataframe tbody tr th:only-of-type {\n",
       "        vertical-align: middle;\n",
       "    }\n",
       "\n",
       "    .dataframe tbody tr th {\n",
       "        vertical-align: top;\n",
       "    }\n",
       "\n",
       "    .dataframe thead th {\n",
       "        text-align: right;\n",
       "    }\n",
       "</style>\n",
       "<table border=\"1\" class=\"dataframe\">\n",
       "  <thead>\n",
       "    <tr style=\"text-align: right;\">\n",
       "      <th></th>\n",
       "      <th>names</th>\n",
       "      <th>city</th>\n",
       "      <th>age</th>\n",
       "    </tr>\n",
       "  </thead>\n",
       "  <tbody>\n",
       "    <tr>\n",
       "      <th>0</th>\n",
       "      <td>kevin</td>\n",
       "      <td>seoul</td>\n",
       "      <td>31</td>\n",
       "    </tr>\n",
       "    <tr>\n",
       "      <th>1</th>\n",
       "      <td>koko</td>\n",
       "      <td>boston</td>\n",
       "      <td>30</td>\n",
       "    </tr>\n",
       "    <tr>\n",
       "      <th>2</th>\n",
       "      <td>haha</td>\n",
       "      <td>lA</td>\n",
       "      <td>66</td>\n",
       "    </tr>\n",
       "    <tr>\n",
       "      <th>3</th>\n",
       "      <td>kevin</td>\n",
       "      <td>san francisco</td>\n",
       "      <td>33</td>\n",
       "    </tr>\n",
       "  </tbody>\n",
       "</table>\n",
       "</div>"
      ],
      "text/plain": [
       "   names           city  age\n",
       "0  kevin          seoul   31\n",
       "1   koko         boston   30\n",
       "2   haha             lA   66\n",
       "3  kevin  san francisco   33"
      ]
     },
     "execution_count": 5,
     "metadata": {},
     "output_type": "execute_result"
    }
   ],
   "source": [
    "df.loc[0:4]"
   ]
  },
  {
   "cell_type": "code",
   "execution_count": 6,
   "metadata": {},
   "outputs": [
    {
     "data": {
      "text/plain": [
       "names    haha\n",
       "city       lA\n",
       "age        66\n",
       "Name: 2, dtype: object"
      ]
     },
     "execution_count": 6,
     "metadata": {},
     "output_type": "execute_result"
    }
   ],
   "source": [
    "df.loc[2]"
   ]
  },
  {
   "cell_type": "code",
   "execution_count": 7,
   "metadata": {},
   "outputs": [
    {
     "data": {
      "text/plain": [
       "0    kevin\n",
       "1     koko\n",
       "2     haha\n",
       "3    kevin\n",
       "Name: names, dtype: object"
      ]
     },
     "execution_count": 7,
     "metadata": {},
     "output_type": "execute_result"
    }
   ],
   "source": [
    "df['names']"
   ]
  },
  {
   "cell_type": "code",
   "execution_count": 8,
   "metadata": {},
   "outputs": [
    {
     "data": {
      "text/html": [
       "<div>\n",
       "<style scoped>\n",
       "    .dataframe tbody tr th:only-of-type {\n",
       "        vertical-align: middle;\n",
       "    }\n",
       "\n",
       "    .dataframe tbody tr th {\n",
       "        vertical-align: top;\n",
       "    }\n",
       "\n",
       "    .dataframe thead th {\n",
       "        text-align: right;\n",
       "    }\n",
       "</style>\n",
       "<table border=\"1\" class=\"dataframe\">\n",
       "  <thead>\n",
       "    <tr style=\"text-align: right;\">\n",
       "      <th></th>\n",
       "      <th>names</th>\n",
       "      <th>city</th>\n",
       "    </tr>\n",
       "  </thead>\n",
       "  <tbody>\n",
       "    <tr>\n",
       "      <th>0</th>\n",
       "      <td>kevin</td>\n",
       "      <td>seoul</td>\n",
       "    </tr>\n",
       "    <tr>\n",
       "      <th>2</th>\n",
       "      <td>haha</td>\n",
       "      <td>lA</td>\n",
       "    </tr>\n",
       "  </tbody>\n",
       "</table>\n",
       "</div>"
      ],
      "text/plain": [
       "   names   city\n",
       "0  kevin  seoul\n",
       "2   haha     lA"
      ]
     },
     "execution_count": 8,
     "metadata": {},
     "output_type": "execute_result"
    }
   ],
   "source": [
    "#find a special raw with special columns\n",
    "df.loc[[0,2]][['names','city']]\n",
    "df[['names','city']].loc[[0,2]]"
   ]
  },
  {
   "cell_type": "code",
   "execution_count": 9,
   "metadata": {},
   "outputs": [
    {
     "data": {
      "text/html": [
       "<div>\n",
       "<style scoped>\n",
       "    .dataframe tbody tr th:only-of-type {\n",
       "        vertical-align: middle;\n",
       "    }\n",
       "\n",
       "    .dataframe tbody tr th {\n",
       "        vertical-align: top;\n",
       "    }\n",
       "\n",
       "    .dataframe thead th {\n",
       "        text-align: right;\n",
       "    }\n",
       "</style>\n",
       "<table border=\"1\" class=\"dataframe\">\n",
       "  <thead>\n",
       "    <tr style=\"text-align: right;\">\n",
       "      <th></th>\n",
       "      <th>names</th>\n",
       "      <th>city</th>\n",
       "      <th>age</th>\n",
       "      <th>sex</th>\n",
       "    </tr>\n",
       "  </thead>\n",
       "  <tbody>\n",
       "    <tr>\n",
       "      <th>0</th>\n",
       "      <td>kevin</td>\n",
       "      <td>seoul</td>\n",
       "      <td>31</td>\n",
       "      <td>m</td>\n",
       "    </tr>\n",
       "    <tr>\n",
       "      <th>1</th>\n",
       "      <td>koko</td>\n",
       "      <td>boston</td>\n",
       "      <td>30</td>\n",
       "      <td>m</td>\n",
       "    </tr>\n",
       "    <tr>\n",
       "      <th>2</th>\n",
       "      <td>haha</td>\n",
       "      <td>lA</td>\n",
       "      <td>66</td>\n",
       "      <td>m</td>\n",
       "    </tr>\n",
       "    <tr>\n",
       "      <th>3</th>\n",
       "      <td>kevin</td>\n",
       "      <td>san francisco</td>\n",
       "      <td>33</td>\n",
       "      <td>m</td>\n",
       "    </tr>\n",
       "  </tbody>\n",
       "</table>\n",
       "</div>"
      ],
      "text/plain": [
       "   names           city  age sex\n",
       "0  kevin          seoul   31   m\n",
       "1   koko         boston   30   m\n",
       "2   haha             lA   66   m\n",
       "3  kevin  san francisco   33   m"
      ]
     },
     "execution_count": 9,
     "metadata": {},
     "output_type": "execute_result"
    }
   ],
   "source": [
    "#make a new column\n",
    "df['sex']=['m','m','m','m']\n",
    "df"
   ]
  },
  {
   "cell_type": "code",
   "execution_count": 10,
   "metadata": {},
   "outputs": [
    {
     "data": {
      "text/html": [
       "<div>\n",
       "<style scoped>\n",
       "    .dataframe tbody tr th:only-of-type {\n",
       "        vertical-align: middle;\n",
       "    }\n",
       "\n",
       "    .dataframe tbody tr th {\n",
       "        vertical-align: top;\n",
       "    }\n",
       "\n",
       "    .dataframe thead th {\n",
       "        text-align: right;\n",
       "    }\n",
       "</style>\n",
       "<table border=\"1\" class=\"dataframe\">\n",
       "  <thead>\n",
       "    <tr style=\"text-align: right;\">\n",
       "      <th></th>\n",
       "      <th>names</th>\n",
       "      <th>city</th>\n",
       "      <th>age</th>\n",
       "      <th>sex</th>\n",
       "    </tr>\n",
       "  </thead>\n",
       "  <tbody>\n",
       "    <tr>\n",
       "      <th>0</th>\n",
       "      <td>kevin</td>\n",
       "      <td>seoul</td>\n",
       "      <td>31</td>\n",
       "      <td>m</td>\n",
       "    </tr>\n",
       "    <tr>\n",
       "      <th>1</th>\n",
       "      <td>koko</td>\n",
       "      <td>boston</td>\n",
       "      <td>30</td>\n",
       "      <td>m</td>\n",
       "    </tr>\n",
       "    <tr>\n",
       "      <th>2</th>\n",
       "      <td>haha</td>\n",
       "      <td>lA</td>\n",
       "      <td>66</td>\n",
       "      <td>m</td>\n",
       "    </tr>\n",
       "    <tr>\n",
       "      <th>3</th>\n",
       "      <td>kevin</td>\n",
       "      <td>san francisco</td>\n",
       "      <td>33</td>\n",
       "      <td>m</td>\n",
       "    </tr>\n",
       "    <tr>\n",
       "      <th>4</th>\n",
       "      <td>mehrsa</td>\n",
       "      <td>Tehran</td>\n",
       "      <td>37</td>\n",
       "      <td>f</td>\n",
       "    </tr>\n",
       "  </tbody>\n",
       "</table>\n",
       "</div>"
      ],
      "text/plain": [
       "    names           city  age sex\n",
       "0   kevin          seoul   31   m\n",
       "1    koko         boston   30   m\n",
       "2    haha             lA   66   m\n",
       "3   kevin  san francisco   33   m\n",
       "4  mehrsa         Tehran   37   f"
      ]
     },
     "execution_count": 10,
     "metadata": {},
     "output_type": "execute_result"
    }
   ],
   "source": [
    "#add new raw\n",
    "df.loc[4]=['mehrsa','Tehran',37,'f']\n",
    "df"
   ]
  },
  {
   "cell_type": "code",
   "execution_count": 11,
   "metadata": {},
   "outputs": [
    {
     "data": {
      "text/html": [
       "<div>\n",
       "<style scoped>\n",
       "    .dataframe tbody tr th:only-of-type {\n",
       "        vertical-align: middle;\n",
       "    }\n",
       "\n",
       "    .dataframe tbody tr th {\n",
       "        vertical-align: top;\n",
       "    }\n",
       "\n",
       "    .dataframe thead th {\n",
       "        text-align: right;\n",
       "    }\n",
       "</style>\n",
       "<table border=\"1\" class=\"dataframe\">\n",
       "  <thead>\n",
       "    <tr style=\"text-align: right;\">\n",
       "      <th></th>\n",
       "      <th>names</th>\n",
       "      <th>city</th>\n",
       "      <th>age</th>\n",
       "      <th>sex</th>\n",
       "    </tr>\n",
       "  </thead>\n",
       "  <tbody>\n",
       "    <tr>\n",
       "      <th>0</th>\n",
       "      <td>kevin</td>\n",
       "      <td>seoul</td>\n",
       "      <td>31.0</td>\n",
       "      <td>m</td>\n",
       "    </tr>\n",
       "    <tr>\n",
       "      <th>1</th>\n",
       "      <td>koko</td>\n",
       "      <td>boston</td>\n",
       "      <td>30.0</td>\n",
       "      <td>m</td>\n",
       "    </tr>\n",
       "    <tr>\n",
       "      <th>2</th>\n",
       "      <td>haha</td>\n",
       "      <td>lA</td>\n",
       "      <td>66.0</td>\n",
       "      <td>m</td>\n",
       "    </tr>\n",
       "    <tr>\n",
       "      <th>3</th>\n",
       "      <td>kevin</td>\n",
       "      <td>san francisco</td>\n",
       "      <td>33.0</td>\n",
       "      <td>m</td>\n",
       "    </tr>\n",
       "    <tr>\n",
       "      <th>4</th>\n",
       "      <td>mehrsa</td>\n",
       "      <td>Tehran</td>\n",
       "      <td>37.0</td>\n",
       "      <td>f</td>\n",
       "    </tr>\n",
       "    <tr>\n",
       "      <th>new_index</th>\n",
       "      <td>unknown</td>\n",
       "      <td>NaN</td>\n",
       "      <td>NaN</td>\n",
       "      <td>NaN</td>\n",
       "    </tr>\n",
       "  </tbody>\n",
       "</table>\n",
       "</div>"
      ],
      "text/plain": [
       "             names           city   age  sex\n",
       "0            kevin          seoul  31.0    m\n",
       "1             koko         boston  30.0    m\n",
       "2             haha             lA  66.0    m\n",
       "3            kevin  san francisco  33.0    m\n",
       "4           mehrsa         Tehran  37.0    f\n",
       "new_index  unknown            NaN   NaN  NaN"
      ]
     },
     "execution_count": 11,
     "metadata": {},
     "output_type": "execute_result"
    }
   ],
   "source": [
    "#change the index,I prefer changing by hand:)\n",
    "df.loc['new_index','names']='unknown'\n",
    "df"
   ]
  },
  {
   "cell_type": "code",
   "execution_count": 12,
   "metadata": {},
   "outputs": [
    {
     "data": {
      "text/html": [
       "<div>\n",
       "<style scoped>\n",
       "    .dataframe tbody tr th:only-of-type {\n",
       "        vertical-align: middle;\n",
       "    }\n",
       "\n",
       "    .dataframe tbody tr th {\n",
       "        vertical-align: top;\n",
       "    }\n",
       "\n",
       "    .dataframe thead th {\n",
       "        text-align: right;\n",
       "    }\n",
       "</style>\n",
       "<table border=\"1\" class=\"dataframe\">\n",
       "  <thead>\n",
       "    <tr style=\"text-align: right;\">\n",
       "      <th></th>\n",
       "      <th>city</th>\n",
       "      <th>age</th>\n",
       "      <th>sex</th>\n",
       "    </tr>\n",
       "    <tr>\n",
       "      <th>names</th>\n",
       "      <th></th>\n",
       "      <th></th>\n",
       "      <th></th>\n",
       "    </tr>\n",
       "  </thead>\n",
       "  <tbody>\n",
       "    <tr>\n",
       "      <th>kevin</th>\n",
       "      <td>seoul</td>\n",
       "      <td>31.0</td>\n",
       "      <td>m</td>\n",
       "    </tr>\n",
       "    <tr>\n",
       "      <th>koko</th>\n",
       "      <td>boston</td>\n",
       "      <td>30.0</td>\n",
       "      <td>m</td>\n",
       "    </tr>\n",
       "    <tr>\n",
       "      <th>haha</th>\n",
       "      <td>lA</td>\n",
       "      <td>66.0</td>\n",
       "      <td>m</td>\n",
       "    </tr>\n",
       "    <tr>\n",
       "      <th>kevin</th>\n",
       "      <td>san francisco</td>\n",
       "      <td>33.0</td>\n",
       "      <td>m</td>\n",
       "    </tr>\n",
       "    <tr>\n",
       "      <th>mehrsa</th>\n",
       "      <td>Tehran</td>\n",
       "      <td>37.0</td>\n",
       "      <td>f</td>\n",
       "    </tr>\n",
       "    <tr>\n",
       "      <th>unknown</th>\n",
       "      <td>NaN</td>\n",
       "      <td>NaN</td>\n",
       "      <td>NaN</td>\n",
       "    </tr>\n",
       "  </tbody>\n",
       "</table>\n",
       "</div>"
      ],
      "text/plain": [
       "                  city   age  sex\n",
       "names                            \n",
       "kevin            seoul  31.0    m\n",
       "koko            boston  30.0    m\n",
       "haha                lA  66.0    m\n",
       "kevin    san francisco  33.0    m\n",
       "mehrsa          Tehran  37.0    f\n",
       "unknown            NaN   NaN  NaN"
      ]
     },
     "execution_count": 12,
     "metadata": {},
     "output_type": "execute_result"
    }
   ],
   "source": [
    "# make the names as index rather than the raw numbers\n",
    "df.set_index('names')\n"
   ]
  },
  {
   "cell_type": "code",
   "execution_count": 13,
   "metadata": {},
   "outputs": [
    {
     "data": {
      "text/html": [
       "<div>\n",
       "<style scoped>\n",
       "    .dataframe tbody tr th:only-of-type {\n",
       "        vertical-align: middle;\n",
       "    }\n",
       "\n",
       "    .dataframe tbody tr th {\n",
       "        vertical-align: top;\n",
       "    }\n",
       "\n",
       "    .dataframe thead th {\n",
       "        text-align: right;\n",
       "    }\n",
       "</style>\n",
       "<table border=\"1\" class=\"dataframe\">\n",
       "  <thead>\n",
       "    <tr style=\"text-align: right;\">\n",
       "      <th></th>\n",
       "      <th>city</th>\n",
       "      <th>age</th>\n",
       "      <th>sex</th>\n",
       "    </tr>\n",
       "    <tr>\n",
       "      <th>names</th>\n",
       "      <th></th>\n",
       "      <th></th>\n",
       "      <th></th>\n",
       "    </tr>\n",
       "  </thead>\n",
       "  <tbody>\n",
       "    <tr>\n",
       "      <th>kevin</th>\n",
       "      <td>seoul</td>\n",
       "      <td>31.0</td>\n",
       "      <td>m</td>\n",
       "    </tr>\n",
       "    <tr>\n",
       "      <th>koko</th>\n",
       "      <td>boston</td>\n",
       "      <td>30.0</td>\n",
       "      <td>m</td>\n",
       "    </tr>\n",
       "    <tr>\n",
       "      <th>haha</th>\n",
       "      <td>lA</td>\n",
       "      <td>66.0</td>\n",
       "      <td>m</td>\n",
       "    </tr>\n",
       "    <tr>\n",
       "      <th>kevin</th>\n",
       "      <td>san francisco</td>\n",
       "      <td>33.0</td>\n",
       "      <td>m</td>\n",
       "    </tr>\n",
       "    <tr>\n",
       "      <th>mehrsa</th>\n",
       "      <td>Tehran</td>\n",
       "      <td>37.0</td>\n",
       "      <td>f</td>\n",
       "    </tr>\n",
       "    <tr>\n",
       "      <th>unknown</th>\n",
       "      <td>NaN</td>\n",
       "      <td>NaN</td>\n",
       "      <td>NaN</td>\n",
       "    </tr>\n",
       "  </tbody>\n",
       "</table>\n",
       "</div>"
      ],
      "text/plain": [
       "                  city   age  sex\n",
       "names                            \n",
       "kevin            seoul  31.0    m\n",
       "koko            boston  30.0    m\n",
       "haha                lA  66.0    m\n",
       "kevin    san francisco  33.0    m\n",
       "mehrsa          Tehran  37.0    f\n",
       "unknown            NaN   NaN  NaN"
      ]
     },
     "execution_count": 13,
     "metadata": {},
     "output_type": "execute_result"
    }
   ],
   "source": [
    "df_new=df.set_index('names')\n",
    "df_new"
   ]
  },
  {
   "cell_type": "code",
   "execution_count": 14,
   "metadata": {},
   "outputs": [
    {
     "data": {
      "text/html": [
       "<div>\n",
       "<style scoped>\n",
       "    .dataframe tbody tr th:only-of-type {\n",
       "        vertical-align: middle;\n",
       "    }\n",
       "\n",
       "    .dataframe tbody tr th {\n",
       "        vertical-align: top;\n",
       "    }\n",
       "\n",
       "    .dataframe thead th {\n",
       "        text-align: right;\n",
       "    }\n",
       "</style>\n",
       "<table border=\"1\" class=\"dataframe\">\n",
       "  <thead>\n",
       "    <tr style=\"text-align: right;\">\n",
       "      <th></th>\n",
       "      <th>city</th>\n",
       "      <th>age</th>\n",
       "      <th>sex</th>\n",
       "    </tr>\n",
       "    <tr>\n",
       "      <th>names</th>\n",
       "      <th></th>\n",
       "      <th></th>\n",
       "      <th></th>\n",
       "    </tr>\n",
       "  </thead>\n",
       "  <tbody>\n",
       "    <tr>\n",
       "      <th>kevin</th>\n",
       "      <td>seoul</td>\n",
       "      <td>31.0</td>\n",
       "      <td>m</td>\n",
       "    </tr>\n",
       "    <tr>\n",
       "      <th>koko</th>\n",
       "      <td>boston</td>\n",
       "      <td>30.0</td>\n",
       "      <td>m</td>\n",
       "    </tr>\n",
       "    <tr>\n",
       "      <th>haha</th>\n",
       "      <td>lA</td>\n",
       "      <td>66.0</td>\n",
       "      <td>m</td>\n",
       "    </tr>\n",
       "    <tr>\n",
       "      <th>kevin</th>\n",
       "      <td>san francisco</td>\n",
       "      <td>33.0</td>\n",
       "      <td>m</td>\n",
       "    </tr>\n",
       "    <tr>\n",
       "      <th>mehrsa</th>\n",
       "      <td>Tehran</td>\n",
       "      <td>37.0</td>\n",
       "      <td>f</td>\n",
       "    </tr>\n",
       "    <tr>\n",
       "      <th>unknown</th>\n",
       "      <td>NaN</td>\n",
       "      <td>NaN</td>\n",
       "      <td>NaN</td>\n",
       "    </tr>\n",
       "    <tr>\n",
       "      <th>aysa</th>\n",
       "      <td>boston</td>\n",
       "      <td>38.0</td>\n",
       "      <td>f</td>\n",
       "    </tr>\n",
       "  </tbody>\n",
       "</table>\n",
       "</div>"
      ],
      "text/plain": [
       "                  city   age  sex\n",
       "names                            \n",
       "kevin            seoul  31.0    m\n",
       "koko            boston  30.0    m\n",
       "haha                lA  66.0    m\n",
       "kevin    san francisco  33.0    m\n",
       "mehrsa          Tehran  37.0    f\n",
       "unknown            NaN   NaN  NaN\n",
       "aysa            boston  38.0    f"
      ]
     },
     "execution_count": 14,
     "metadata": {},
     "output_type": "execute_result"
    }
   ],
   "source": [
    "df_new.loc['aysa']=['boston',38,'f']\n",
    "df_new"
   ]
  },
  {
   "cell_type": "code",
   "execution_count": 15,
   "metadata": {},
   "outputs": [
    {
     "data": {
      "text/html": [
       "<div>\n",
       "<style scoped>\n",
       "    .dataframe tbody tr th:only-of-type {\n",
       "        vertical-align: middle;\n",
       "    }\n",
       "\n",
       "    .dataframe tbody tr th {\n",
       "        vertical-align: top;\n",
       "    }\n",
       "\n",
       "    .dataframe thead th {\n",
       "        text-align: right;\n",
       "    }\n",
       "</style>\n",
       "<table border=\"1\" class=\"dataframe\">\n",
       "  <thead>\n",
       "    <tr style=\"text-align: right;\">\n",
       "      <th></th>\n",
       "      <th>names</th>\n",
       "      <th>city</th>\n",
       "      <th>age</th>\n",
       "      <th>sex</th>\n",
       "      <th>age_2</th>\n",
       "    </tr>\n",
       "  </thead>\n",
       "  <tbody>\n",
       "    <tr>\n",
       "      <th>0</th>\n",
       "      <td>kevin</td>\n",
       "      <td>seoul</td>\n",
       "      <td>31.0</td>\n",
       "      <td>m</td>\n",
       "      <td>64.0</td>\n",
       "    </tr>\n",
       "    <tr>\n",
       "      <th>1</th>\n",
       "      <td>koko</td>\n",
       "      <td>boston</td>\n",
       "      <td>30.0</td>\n",
       "      <td>m</td>\n",
       "      <td>63.0</td>\n",
       "    </tr>\n",
       "    <tr>\n",
       "      <th>2</th>\n",
       "      <td>haha</td>\n",
       "      <td>lA</td>\n",
       "      <td>66.0</td>\n",
       "      <td>m</td>\n",
       "      <td>99.0</td>\n",
       "    </tr>\n",
       "    <tr>\n",
       "      <th>3</th>\n",
       "      <td>kevin</td>\n",
       "      <td>san francisco</td>\n",
       "      <td>33.0</td>\n",
       "      <td>m</td>\n",
       "      <td>66.0</td>\n",
       "    </tr>\n",
       "    <tr>\n",
       "      <th>4</th>\n",
       "      <td>mehrsa</td>\n",
       "      <td>Tehran</td>\n",
       "      <td>37.0</td>\n",
       "      <td>f</td>\n",
       "      <td>70.0</td>\n",
       "    </tr>\n",
       "    <tr>\n",
       "      <th>new_index</th>\n",
       "      <td>unknown</td>\n",
       "      <td>NaN</td>\n",
       "      <td>NaN</td>\n",
       "      <td>NaN</td>\n",
       "      <td>NaN</td>\n",
       "    </tr>\n",
       "  </tbody>\n",
       "</table>\n",
       "</div>"
      ],
      "text/plain": [
       "             names           city   age  sex  age_2\n",
       "0            kevin          seoul  31.0    m   64.0\n",
       "1             koko         boston  30.0    m   63.0\n",
       "2             haha             lA  66.0    m   99.0\n",
       "3            kevin  san francisco  33.0    m   66.0\n",
       "4           mehrsa         Tehran  37.0    f   70.0\n",
       "new_index  unknown            NaN   NaN  NaN    NaN"
      ]
     },
     "execution_count": 15,
     "metadata": {},
     "output_type": "execute_result"
    }
   ],
   "source": [
    "#create a new column and  assign the previous age+33 to its variables:\n",
    "df['age_2']=df['age']+33\n",
    "df"
   ]
  },
  {
   "cell_type": "code",
   "execution_count": 16,
   "metadata": {},
   "outputs": [
    {
     "data": {
      "text/html": [
       "<div>\n",
       "<style scoped>\n",
       "    .dataframe tbody tr th:only-of-type {\n",
       "        vertical-align: middle;\n",
       "    }\n",
       "\n",
       "    .dataframe tbody tr th {\n",
       "        vertical-align: top;\n",
       "    }\n",
       "\n",
       "    .dataframe thead th {\n",
       "        text-align: right;\n",
       "    }\n",
       "</style>\n",
       "<table border=\"1\" class=\"dataframe\">\n",
       "  <thead>\n",
       "    <tr style=\"text-align: right;\">\n",
       "      <th></th>\n",
       "      <th>names</th>\n",
       "      <th>city</th>\n",
       "      <th>age</th>\n",
       "      <th>sex</th>\n",
       "      <th>age_2</th>\n",
       "      <th>age_3</th>\n",
       "    </tr>\n",
       "  </thead>\n",
       "  <tbody>\n",
       "    <tr>\n",
       "      <th>0</th>\n",
       "      <td>kevin</td>\n",
       "      <td>seoul</td>\n",
       "      <td>31.0</td>\n",
       "      <td>m</td>\n",
       "      <td>64.0</td>\n",
       "      <td>74.0</td>\n",
       "    </tr>\n",
       "    <tr>\n",
       "      <th>1</th>\n",
       "      <td>koko</td>\n",
       "      <td>boston</td>\n",
       "      <td>30.0</td>\n",
       "      <td>m</td>\n",
       "      <td>63.0</td>\n",
       "      <td>73.0</td>\n",
       "    </tr>\n",
       "    <tr>\n",
       "      <th>2</th>\n",
       "      <td>haha</td>\n",
       "      <td>lA</td>\n",
       "      <td>66.0</td>\n",
       "      <td>m</td>\n",
       "      <td>99.0</td>\n",
       "      <td>109.0</td>\n",
       "    </tr>\n",
       "    <tr>\n",
       "      <th>3</th>\n",
       "      <td>kevin</td>\n",
       "      <td>san francisco</td>\n",
       "      <td>33.0</td>\n",
       "      <td>m</td>\n",
       "      <td>66.0</td>\n",
       "      <td>76.0</td>\n",
       "    </tr>\n",
       "    <tr>\n",
       "      <th>4</th>\n",
       "      <td>mehrsa</td>\n",
       "      <td>Tehran</td>\n",
       "      <td>37.0</td>\n",
       "      <td>f</td>\n",
       "      <td>70.0</td>\n",
       "      <td>80.0</td>\n",
       "    </tr>\n",
       "    <tr>\n",
       "      <th>new_index</th>\n",
       "      <td>unknown</td>\n",
       "      <td>NaN</td>\n",
       "      <td>NaN</td>\n",
       "      <td>NaN</td>\n",
       "      <td>NaN</td>\n",
       "      <td>NaN</td>\n",
       "    </tr>\n",
       "  </tbody>\n",
       "</table>\n",
       "</div>"
      ],
      "text/plain": [
       "             names           city   age  sex  age_2  age_3\n",
       "0            kevin          seoul  31.0    m   64.0   74.0\n",
       "1             koko         boston  30.0    m   63.0   73.0\n",
       "2             haha             lA  66.0    m   99.0  109.0\n",
       "3            kevin  san francisco  33.0    m   66.0   76.0\n",
       "4           mehrsa         Tehran  37.0    f   70.0   80.0\n",
       "new_index  unknown            NaN   NaN  NaN    NaN    NaN"
      ]
     },
     "execution_count": 16,
     "metadata": {},
     "output_type": "execute_result"
    }
   ],
   "source": [
    "df['age_3']=df['age_2']+10\n",
    "df"
   ]
  },
  {
   "cell_type": "code",
   "execution_count": 17,
   "metadata": {},
   "outputs": [
    {
     "data": {
      "text/html": [
       "<div>\n",
       "<style scoped>\n",
       "    .dataframe tbody tr th:only-of-type {\n",
       "        vertical-align: middle;\n",
       "    }\n",
       "\n",
       "    .dataframe tbody tr th {\n",
       "        vertical-align: top;\n",
       "    }\n",
       "\n",
       "    .dataframe thead th {\n",
       "        text-align: right;\n",
       "    }\n",
       "</style>\n",
       "<table border=\"1\" class=\"dataframe\">\n",
       "  <thead>\n",
       "    <tr style=\"text-align: right;\">\n",
       "      <th></th>\n",
       "      <th>names</th>\n",
       "      <th>city</th>\n",
       "      <th>age</th>\n",
       "      <th>sex</th>\n",
       "      <th>age_2</th>\n",
       "      <th>age_3</th>\n",
       "      <th>new_name</th>\n",
       "    </tr>\n",
       "  </thead>\n",
       "  <tbody>\n",
       "    <tr>\n",
       "      <th>0</th>\n",
       "      <td>kevin</td>\n",
       "      <td>seoul</td>\n",
       "      <td>31.0</td>\n",
       "      <td>m</td>\n",
       "      <td>64.0</td>\n",
       "      <td>74.0</td>\n",
       "      <td>kevin cute</td>\n",
       "    </tr>\n",
       "    <tr>\n",
       "      <th>1</th>\n",
       "      <td>koko</td>\n",
       "      <td>boston</td>\n",
       "      <td>30.0</td>\n",
       "      <td>m</td>\n",
       "      <td>63.0</td>\n",
       "      <td>73.0</td>\n",
       "      <td>koko cute</td>\n",
       "    </tr>\n",
       "    <tr>\n",
       "      <th>2</th>\n",
       "      <td>haha</td>\n",
       "      <td>lA</td>\n",
       "      <td>66.0</td>\n",
       "      <td>m</td>\n",
       "      <td>99.0</td>\n",
       "      <td>109.0</td>\n",
       "      <td>haha cute</td>\n",
       "    </tr>\n",
       "    <tr>\n",
       "      <th>3</th>\n",
       "      <td>kevin</td>\n",
       "      <td>san francisco</td>\n",
       "      <td>33.0</td>\n",
       "      <td>m</td>\n",
       "      <td>66.0</td>\n",
       "      <td>76.0</td>\n",
       "      <td>kevin cute</td>\n",
       "    </tr>\n",
       "    <tr>\n",
       "      <th>4</th>\n",
       "      <td>mehrsa</td>\n",
       "      <td>Tehran</td>\n",
       "      <td>37.0</td>\n",
       "      <td>f</td>\n",
       "      <td>70.0</td>\n",
       "      <td>80.0</td>\n",
       "      <td>mehrsa cute</td>\n",
       "    </tr>\n",
       "    <tr>\n",
       "      <th>new_index</th>\n",
       "      <td>unknown</td>\n",
       "      <td>NaN</td>\n",
       "      <td>NaN</td>\n",
       "      <td>NaN</td>\n",
       "      <td>NaN</td>\n",
       "      <td>NaN</td>\n",
       "      <td>unknown cute</td>\n",
       "    </tr>\n",
       "  </tbody>\n",
       "</table>\n",
       "</div>"
      ],
      "text/plain": [
       "             names           city   age  sex  age_2  age_3      new_name\n",
       "0            kevin          seoul  31.0    m   64.0   74.0    kevin cute\n",
       "1             koko         boston  30.0    m   63.0   73.0     koko cute\n",
       "2             haha             lA  66.0    m   99.0  109.0     haha cute\n",
       "3            kevin  san francisco  33.0    m   66.0   76.0    kevin cute\n",
       "4           mehrsa         Tehran  37.0    f   70.0   80.0   mehrsa cute\n",
       "new_index  unknown            NaN   NaN  NaN    NaN    NaN  unknown cute"
      ]
     },
     "execution_count": 17,
     "metadata": {},
     "output_type": "execute_result"
    }
   ],
   "source": [
    "#create a new column and  assign the previous names + appendix to it\n",
    "df['new_name']=df['names']+[' ']+'cute'\n",
    "df"
   ]
  },
  {
   "cell_type": "code",
   "execution_count": 18,
   "metadata": {},
   "outputs": [
    {
     "data": {
      "text/html": [
       "<div>\n",
       "<style scoped>\n",
       "    .dataframe tbody tr th:only-of-type {\n",
       "        vertical-align: middle;\n",
       "    }\n",
       "\n",
       "    .dataframe tbody tr th {\n",
       "        vertical-align: top;\n",
       "    }\n",
       "\n",
       "    .dataframe thead th {\n",
       "        text-align: right;\n",
       "    }\n",
       "</style>\n",
       "<table border=\"1\" class=\"dataframe\">\n",
       "  <thead>\n",
       "    <tr style=\"text-align: right;\">\n",
       "      <th></th>\n",
       "      <th>names</th>\n",
       "      <th>city</th>\n",
       "      <th>age</th>\n",
       "      <th>sex</th>\n",
       "      <th>age_2</th>\n",
       "      <th>age_3</th>\n",
       "      <th>new_name</th>\n",
       "    </tr>\n",
       "  </thead>\n",
       "  <tbody>\n",
       "    <tr>\n",
       "      <th>0</th>\n",
       "      <td>kevin</td>\n",
       "      <td>seoul</td>\n",
       "      <td>31.0</td>\n",
       "      <td>m</td>\n",
       "      <td>64.0</td>\n",
       "      <td>74.0</td>\n",
       "      <td>kevin cute</td>\n",
       "    </tr>\n",
       "    <tr>\n",
       "      <th>1</th>\n",
       "      <td>koko</td>\n",
       "      <td>boston</td>\n",
       "      <td>30.0</td>\n",
       "      <td>m</td>\n",
       "      <td>63.0</td>\n",
       "      <td>73.0</td>\n",
       "      <td>koko cute</td>\n",
       "    </tr>\n",
       "    <tr>\n",
       "      <th>2</th>\n",
       "      <td>haha</td>\n",
       "      <td>lA</td>\n",
       "      <td>66.0</td>\n",
       "      <td>m</td>\n",
       "      <td>99.0</td>\n",
       "      <td>109.0</td>\n",
       "      <td>haha cute</td>\n",
       "    </tr>\n",
       "    <tr>\n",
       "      <th>3</th>\n",
       "      <td>kevin</td>\n",
       "      <td>san francisco</td>\n",
       "      <td>33.0</td>\n",
       "      <td>m</td>\n",
       "      <td>66.0</td>\n",
       "      <td>76.0</td>\n",
       "      <td>kevin cute</td>\n",
       "    </tr>\n",
       "    <tr>\n",
       "      <th>new_index</th>\n",
       "      <td>unknown</td>\n",
       "      <td>NaN</td>\n",
       "      <td>NaN</td>\n",
       "      <td>NaN</td>\n",
       "      <td>NaN</td>\n",
       "      <td>NaN</td>\n",
       "      <td>unknown cute</td>\n",
       "    </tr>\n",
       "  </tbody>\n",
       "</table>\n",
       "</div>"
      ],
      "text/plain": [
       "             names           city   age  sex  age_2  age_3      new_name\n",
       "0            kevin          seoul  31.0    m   64.0   74.0    kevin cute\n",
       "1             koko         boston  30.0    m   63.0   73.0     koko cute\n",
       "2             haha             lA  66.0    m   99.0  109.0     haha cute\n",
       "3            kevin  san francisco  33.0    m   66.0   76.0    kevin cute\n",
       "new_index  unknown            NaN   NaN  NaN    NaN    NaN  unknown cute"
      ]
     },
     "execution_count": 18,
     "metadata": {},
     "output_type": "execute_result"
    }
   ],
   "source": [
    "#delete the raw\n",
    "df.drop(4)"
   ]
  },
  {
   "cell_type": "code",
   "execution_count": 19,
   "metadata": {},
   "outputs": [
    {
     "data": {
      "text/html": [
       "<div>\n",
       "<style scoped>\n",
       "    .dataframe tbody tr th:only-of-type {\n",
       "        vertical-align: middle;\n",
       "    }\n",
       "\n",
       "    .dataframe tbody tr th {\n",
       "        vertical-align: top;\n",
       "    }\n",
       "\n",
       "    .dataframe thead th {\n",
       "        text-align: right;\n",
       "    }\n",
       "</style>\n",
       "<table border=\"1\" class=\"dataframe\">\n",
       "  <thead>\n",
       "    <tr style=\"text-align: right;\">\n",
       "      <th></th>\n",
       "      <th>names</th>\n",
       "      <th>city</th>\n",
       "      <th>age</th>\n",
       "      <th>sex</th>\n",
       "      <th>age_2</th>\n",
       "      <th>age_3</th>\n",
       "      <th>new_name</th>\n",
       "    </tr>\n",
       "  </thead>\n",
       "  <tbody>\n",
       "    <tr>\n",
       "      <th>0</th>\n",
       "      <td>kevin</td>\n",
       "      <td>seoul</td>\n",
       "      <td>31.0</td>\n",
       "      <td>m</td>\n",
       "      <td>64.0</td>\n",
       "      <td>74.0</td>\n",
       "      <td>kevin cute</td>\n",
       "    </tr>\n",
       "    <tr>\n",
       "      <th>1</th>\n",
       "      <td>koko</td>\n",
       "      <td>boston</td>\n",
       "      <td>30.0</td>\n",
       "      <td>m</td>\n",
       "      <td>63.0</td>\n",
       "      <td>73.0</td>\n",
       "      <td>koko cute</td>\n",
       "    </tr>\n",
       "    <tr>\n",
       "      <th>2</th>\n",
       "      <td>haha</td>\n",
       "      <td>lA</td>\n",
       "      <td>66.0</td>\n",
       "      <td>m</td>\n",
       "      <td>99.0</td>\n",
       "      <td>109.0</td>\n",
       "      <td>haha cute</td>\n",
       "    </tr>\n",
       "    <tr>\n",
       "      <th>3</th>\n",
       "      <td>kevin</td>\n",
       "      <td>san francisco</td>\n",
       "      <td>33.0</td>\n",
       "      <td>m</td>\n",
       "      <td>66.0</td>\n",
       "      <td>76.0</td>\n",
       "      <td>kevin cute</td>\n",
       "    </tr>\n",
       "    <tr>\n",
       "      <th>new_index</th>\n",
       "      <td>unknown</td>\n",
       "      <td>NaN</td>\n",
       "      <td>NaN</td>\n",
       "      <td>NaN</td>\n",
       "      <td>NaN</td>\n",
       "      <td>NaN</td>\n",
       "      <td>unknown cute</td>\n",
       "    </tr>\n",
       "  </tbody>\n",
       "</table>\n",
       "</div>"
      ],
      "text/plain": [
       "             names           city   age  sex  age_2  age_3      new_name\n",
       "0            kevin          seoul  31.0    m   64.0   74.0    kevin cute\n",
       "1             koko         boston  30.0    m   63.0   73.0     koko cute\n",
       "2             haha             lA  66.0    m   99.0  109.0     haha cute\n",
       "3            kevin  san francisco  33.0    m   66.0   76.0    kevin cute\n",
       "new_index  unknown            NaN   NaN  NaN    NaN    NaN  unknown cute"
      ]
     },
     "execution_count": 19,
     "metadata": {},
     "output_type": "execute_result"
    }
   ],
   "source": [
    "#delete the raw\n",
    "df=df.drop(4)\n",
    "df"
   ]
  },
  {
   "cell_type": "code",
   "execution_count": 20,
   "metadata": {},
   "outputs": [
    {
     "data": {
      "text/html": [
       "<div>\n",
       "<style scoped>\n",
       "    .dataframe tbody tr th:only-of-type {\n",
       "        vertical-align: middle;\n",
       "    }\n",
       "\n",
       "    .dataframe tbody tr th {\n",
       "        vertical-align: top;\n",
       "    }\n",
       "\n",
       "    .dataframe thead th {\n",
       "        text-align: right;\n",
       "    }\n",
       "</style>\n",
       "<table border=\"1\" class=\"dataframe\">\n",
       "  <thead>\n",
       "    <tr style=\"text-align: right;\">\n",
       "      <th></th>\n",
       "      <th>names</th>\n",
       "      <th>city</th>\n",
       "      <th>age</th>\n",
       "      <th>sex</th>\n",
       "      <th>age_2</th>\n",
       "      <th>age_3</th>\n",
       "      <th>new_name</th>\n",
       "    </tr>\n",
       "  </thead>\n",
       "  <tbody>\n",
       "    <tr>\n",
       "      <th>0</th>\n",
       "      <td>kevin</td>\n",
       "      <td>seoul</td>\n",
       "      <td>31.0</td>\n",
       "      <td>m</td>\n",
       "      <td>64.0</td>\n",
       "      <td>74.0</td>\n",
       "      <td>kevin cute</td>\n",
       "    </tr>\n",
       "    <tr>\n",
       "      <th>1</th>\n",
       "      <td>koko</td>\n",
       "      <td>boston</td>\n",
       "      <td>30.0</td>\n",
       "      <td>m</td>\n",
       "      <td>63.0</td>\n",
       "      <td>73.0</td>\n",
       "      <td>koko cute</td>\n",
       "    </tr>\n",
       "    <tr>\n",
       "      <th>2</th>\n",
       "      <td>haha</td>\n",
       "      <td>lA</td>\n",
       "      <td>66.0</td>\n",
       "      <td>m</td>\n",
       "      <td>99.0</td>\n",
       "      <td>109.0</td>\n",
       "      <td>haha cute</td>\n",
       "    </tr>\n",
       "    <tr>\n",
       "      <th>3</th>\n",
       "      <td>kevin</td>\n",
       "      <td>san francisco</td>\n",
       "      <td>33.0</td>\n",
       "      <td>m</td>\n",
       "      <td>66.0</td>\n",
       "      <td>76.0</td>\n",
       "      <td>kevin cute</td>\n",
       "    </tr>\n",
       "  </tbody>\n",
       "</table>\n",
       "</div>"
      ],
      "text/plain": [
       "   names           city   age sex  age_2  age_3    new_name\n",
       "0  kevin          seoul  31.0   m   64.0   74.0  kevin cute\n",
       "1   koko         boston  30.0   m   63.0   73.0   koko cute\n",
       "2   haha             lA  66.0   m   99.0  109.0   haha cute\n",
       "3  kevin  san francisco  33.0   m   66.0   76.0  kevin cute"
      ]
     },
     "execution_count": 20,
     "metadata": {},
     "output_type": "execute_result"
    }
   ],
   "source": [
    "#new way to remove with updating the dfwitout the need for assign the new situation again\n",
    "df.drop('new_index',inplace=True)\n",
    "df"
   ]
  },
  {
   "cell_type": "code",
   "execution_count": 21,
   "metadata": {},
   "outputs": [
    {
     "data": {
      "text/html": [
       "<div>\n",
       "<style scoped>\n",
       "    .dataframe tbody tr th:only-of-type {\n",
       "        vertical-align: middle;\n",
       "    }\n",
       "\n",
       "    .dataframe tbody tr th {\n",
       "        vertical-align: top;\n",
       "    }\n",
       "\n",
       "    .dataframe thead th {\n",
       "        text-align: right;\n",
       "    }\n",
       "</style>\n",
       "<table border=\"1\" class=\"dataframe\">\n",
       "  <thead>\n",
       "    <tr style=\"text-align: right;\">\n",
       "      <th></th>\n",
       "      <th>names</th>\n",
       "      <th>city</th>\n",
       "      <th>age</th>\n",
       "      <th>sex</th>\n",
       "      <th>age_2</th>\n",
       "      <th>age_3</th>\n",
       "    </tr>\n",
       "  </thead>\n",
       "  <tbody>\n",
       "    <tr>\n",
       "      <th>0</th>\n",
       "      <td>kevin</td>\n",
       "      <td>seoul</td>\n",
       "      <td>31.0</td>\n",
       "      <td>m</td>\n",
       "      <td>64.0</td>\n",
       "      <td>74.0</td>\n",
       "    </tr>\n",
       "    <tr>\n",
       "      <th>1</th>\n",
       "      <td>koko</td>\n",
       "      <td>boston</td>\n",
       "      <td>30.0</td>\n",
       "      <td>m</td>\n",
       "      <td>63.0</td>\n",
       "      <td>73.0</td>\n",
       "    </tr>\n",
       "    <tr>\n",
       "      <th>2</th>\n",
       "      <td>haha</td>\n",
       "      <td>lA</td>\n",
       "      <td>66.0</td>\n",
       "      <td>m</td>\n",
       "      <td>99.0</td>\n",
       "      <td>109.0</td>\n",
       "    </tr>\n",
       "    <tr>\n",
       "      <th>3</th>\n",
       "      <td>kevin</td>\n",
       "      <td>san francisco</td>\n",
       "      <td>33.0</td>\n",
       "      <td>m</td>\n",
       "      <td>66.0</td>\n",
       "      <td>76.0</td>\n",
       "    </tr>\n",
       "  </tbody>\n",
       "</table>\n",
       "</div>"
      ],
      "text/plain": [
       "   names           city   age sex  age_2  age_3\n",
       "0  kevin          seoul  31.0   m   64.0   74.0\n",
       "1   koko         boston  30.0   m   63.0   73.0\n",
       "2   haha             lA  66.0   m   99.0  109.0\n",
       "3  kevin  san francisco  33.0   m   66.0   76.0"
      ]
     },
     "execution_count": 21,
     "metadata": {},
     "output_type": "execute_result"
    }
   ],
   "source": [
    "#drop a column( we write the axis because we want to delete the column)\n",
    "df.drop('new_name',axis=1,inplace=True)\n",
    "df"
   ]
  },
  {
   "cell_type": "code",
   "execution_count": 22,
   "metadata": {},
   "outputs": [
    {
     "data": {
      "text/plain": [
       "0    True\n",
       "1    True\n",
       "2    True\n",
       "3    True\n",
       "Name: age, dtype: bool"
      ]
     },
     "execution_count": 22,
     "metadata": {},
     "output_type": "execute_result"
    }
   ],
   "source": [
    "#set a condition just with the index\n",
    "df.age>20"
   ]
  },
  {
   "cell_type": "code",
   "execution_count": 23,
   "metadata": {},
   "outputs": [
    {
     "data": {
      "text/html": [
       "<div>\n",
       "<style scoped>\n",
       "    .dataframe tbody tr th:only-of-type {\n",
       "        vertical-align: middle;\n",
       "    }\n",
       "\n",
       "    .dataframe tbody tr th {\n",
       "        vertical-align: top;\n",
       "    }\n",
       "\n",
       "    .dataframe thead th {\n",
       "        text-align: right;\n",
       "    }\n",
       "</style>\n",
       "<table border=\"1\" class=\"dataframe\">\n",
       "  <thead>\n",
       "    <tr style=\"text-align: right;\">\n",
       "      <th></th>\n",
       "      <th>names</th>\n",
       "      <th>city</th>\n",
       "      <th>age</th>\n",
       "      <th>sex</th>\n",
       "      <th>age_2</th>\n",
       "      <th>age_3</th>\n",
       "    </tr>\n",
       "  </thead>\n",
       "  <tbody>\n",
       "    <tr>\n",
       "      <th>0</th>\n",
       "      <td>kevin</td>\n",
       "      <td>seoul</td>\n",
       "      <td>31.0</td>\n",
       "      <td>m</td>\n",
       "      <td>64.0</td>\n",
       "      <td>74.0</td>\n",
       "    </tr>\n",
       "    <tr>\n",
       "      <th>1</th>\n",
       "      <td>koko</td>\n",
       "      <td>boston</td>\n",
       "      <td>30.0</td>\n",
       "      <td>m</td>\n",
       "      <td>63.0</td>\n",
       "      <td>73.0</td>\n",
       "    </tr>\n",
       "    <tr>\n",
       "      <th>3</th>\n",
       "      <td>kevin</td>\n",
       "      <td>san francisco</td>\n",
       "      <td>33.0</td>\n",
       "      <td>m</td>\n",
       "      <td>66.0</td>\n",
       "      <td>76.0</td>\n",
       "    </tr>\n",
       "  </tbody>\n",
       "</table>\n",
       "</div>"
      ],
      "text/plain": [
       "   names           city   age sex  age_2  age_3\n",
       "0  kevin          seoul  31.0   m   64.0   74.0\n",
       "1   koko         boston  30.0   m   63.0   73.0\n",
       "3  kevin  san francisco  33.0   m   66.0   76.0"
      ]
     },
     "execution_count": 23,
     "metadata": {},
     "output_type": "execute_result"
    }
   ],
   "source": [
    "#set a condition with the full table, don't forget the parantheses\n",
    "df[(df.age>20) & (df.age<40)]"
   ]
  },
  {
   "cell_type": "code",
   "execution_count": 24,
   "metadata": {},
   "outputs": [
    {
     "data": {
      "text/html": [
       "<div>\n",
       "<style scoped>\n",
       "    .dataframe tbody tr th:only-of-type {\n",
       "        vertical-align: middle;\n",
       "    }\n",
       "\n",
       "    .dataframe tbody tr th {\n",
       "        vertical-align: top;\n",
       "    }\n",
       "\n",
       "    .dataframe thead th {\n",
       "        text-align: right;\n",
       "    }\n",
       "</style>\n",
       "<table border=\"1\" class=\"dataframe\">\n",
       "  <thead>\n",
       "    <tr style=\"text-align: right;\">\n",
       "      <th></th>\n",
       "      <th>names</th>\n",
       "      <th>city</th>\n",
       "      <th>age</th>\n",
       "      <th>sex</th>\n",
       "      <th>age_2</th>\n",
       "      <th>age_3</th>\n",
       "    </tr>\n",
       "  </thead>\n",
       "  <tbody>\n",
       "  </tbody>\n",
       "</table>\n",
       "</div>"
      ],
      "text/plain": [
       "Empty DataFrame\n",
       "Columns: [names, city, age, sex, age_2, age_3]\n",
       "Index: []"
      ]
     },
     "execution_count": 24,
     "metadata": {},
     "output_type": "execute_result"
    }
   ],
   "source": [
    "#dont forget double(=)\n",
    "df[(df.age>20)& (df.sex=='f')]"
   ]
  },
  {
   "cell_type": "code",
   "execution_count": 25,
   "metadata": {},
   "outputs": [
    {
     "data": {
      "text/plain": [
       "0     True\n",
       "1     True\n",
       "2    False\n",
       "3    False\n",
       "Name: city, dtype: bool"
      ]
     },
     "execution_count": 25,
     "metadata": {},
     "output_type": "execute_result"
    }
   ],
   "source": [
    "#for checking by true or false which has seoul or boston\n",
    "df['city'].isin(['boston' , 'seoul'])\n"
   ]
  },
  {
   "cell_type": "code",
   "execution_count": 26,
   "metadata": {},
   "outputs": [
    {
     "data": {
      "text/plain": [
       "0    False\n",
       "1    False\n",
       "2    False\n",
       "3     True\n",
       "Name: city, dtype: bool"
      ]
     },
     "execution_count": 26,
     "metadata": {},
     "output_type": "execute_result"
    }
   ],
   "source": [
    "#find if the special letter is in the ciry\n",
    "df['city'].str.contains('c')"
   ]
  },
  {
   "cell_type": "code",
   "execution_count": 27,
   "metadata": {},
   "outputs": [
    {
     "data": {
      "text/html": [
       "<div>\n",
       "<style scoped>\n",
       "    .dataframe tbody tr th:only-of-type {\n",
       "        vertical-align: middle;\n",
       "    }\n",
       "\n",
       "    .dataframe tbody tr th {\n",
       "        vertical-align: top;\n",
       "    }\n",
       "\n",
       "    .dataframe thead th {\n",
       "        text-align: right;\n",
       "    }\n",
       "</style>\n",
       "<table border=\"1\" class=\"dataframe\">\n",
       "  <thead>\n",
       "    <tr style=\"text-align: right;\">\n",
       "      <th></th>\n",
       "      <th>age</th>\n",
       "      <th>age_2</th>\n",
       "      <th>age_3</th>\n",
       "    </tr>\n",
       "    <tr>\n",
       "      <th>sex</th>\n",
       "      <th></th>\n",
       "      <th></th>\n",
       "      <th></th>\n",
       "    </tr>\n",
       "  </thead>\n",
       "  <tbody>\n",
       "    <tr>\n",
       "      <th>m</th>\n",
       "      <td>40.0</td>\n",
       "      <td>73.0</td>\n",
       "      <td>83.0</td>\n",
       "    </tr>\n",
       "  </tbody>\n",
       "</table>\n",
       "</div>"
      ],
      "text/plain": [
       "      age  age_2  age_3\n",
       "sex                    \n",
       "m    40.0   73.0   83.0"
      ]
     },
     "execution_count": 27,
     "metadata": {},
     "output_type": "execute_result"
    }
   ],
   "source": [
    "#find the mean of the sex column\n",
    "df.groupby('sex').mean()"
   ]
  },
  {
   "cell_type": "code",
   "execution_count": 28,
   "metadata": {},
   "outputs": [
    {
     "data": {
      "text/html": [
       "<div>\n",
       "<style scoped>\n",
       "    .dataframe tbody tr th:only-of-type {\n",
       "        vertical-align: middle;\n",
       "    }\n",
       "\n",
       "    .dataframe tbody tr th {\n",
       "        vertical-align: top;\n",
       "    }\n",
       "\n",
       "    .dataframe thead th {\n",
       "        text-align: right;\n",
       "    }\n",
       "</style>\n",
       "<table border=\"1\" class=\"dataframe\">\n",
       "  <thead>\n",
       "    <tr style=\"text-align: right;\">\n",
       "      <th></th>\n",
       "      <th>age_2</th>\n",
       "      <th>age_3</th>\n",
       "    </tr>\n",
       "    <tr>\n",
       "      <th>age</th>\n",
       "      <th></th>\n",
       "      <th></th>\n",
       "    </tr>\n",
       "  </thead>\n",
       "  <tbody>\n",
       "    <tr>\n",
       "      <th>30.0</th>\n",
       "      <td>63.0</td>\n",
       "      <td>73.0</td>\n",
       "    </tr>\n",
       "    <tr>\n",
       "      <th>31.0</th>\n",
       "      <td>64.0</td>\n",
       "      <td>74.0</td>\n",
       "    </tr>\n",
       "    <tr>\n",
       "      <th>33.0</th>\n",
       "      <td>66.0</td>\n",
       "      <td>76.0</td>\n",
       "    </tr>\n",
       "    <tr>\n",
       "      <th>66.0</th>\n",
       "      <td>99.0</td>\n",
       "      <td>109.0</td>\n",
       "    </tr>\n",
       "  </tbody>\n",
       "</table>\n",
       "</div>"
      ],
      "text/plain": [
       "      age_2  age_3\n",
       "age               \n",
       "30.0   63.0   73.0\n",
       "31.0   64.0   74.0\n",
       "33.0   66.0   76.0\n",
       "66.0   99.0  109.0"
      ]
     },
     "execution_count": 28,
     "metadata": {},
     "output_type": "execute_result"
    }
   ],
   "source": [
    "(df.groupby('age').mean())\n"
   ]
  },
  {
   "cell_type": "code",
   "execution_count": 29,
   "metadata": {},
   "outputs": [
    {
     "data": {
      "text/html": [
       "<div>\n",
       "<style scoped>\n",
       "    .dataframe tbody tr th:only-of-type {\n",
       "        vertical-align: middle;\n",
       "    }\n",
       "\n",
       "    .dataframe tbody tr th {\n",
       "        vertical-align: top;\n",
       "    }\n",
       "\n",
       "    .dataframe thead th {\n",
       "        text-align: right;\n",
       "    }\n",
       "</style>\n",
       "<table border=\"1\" class=\"dataframe\">\n",
       "  <thead>\n",
       "    <tr style=\"text-align: right;\">\n",
       "      <th></th>\n",
       "      <th>age</th>\n",
       "      <th>age_2</th>\n",
       "      <th>age_3</th>\n",
       "    </tr>\n",
       "    <tr>\n",
       "      <th>sex</th>\n",
       "      <th></th>\n",
       "      <th></th>\n",
       "      <th></th>\n",
       "    </tr>\n",
       "  </thead>\n",
       "  <tbody>\n",
       "    <tr>\n",
       "      <th>m</th>\n",
       "      <td>17.378147</td>\n",
       "      <td>17.378147</td>\n",
       "      <td>17.378147</td>\n",
       "    </tr>\n",
       "  </tbody>\n",
       "</table>\n",
       "</div>"
      ],
      "text/plain": [
       "           age      age_2      age_3\n",
       "sex                                 \n",
       "m    17.378147  17.378147  17.378147"
      ]
     },
     "execution_count": 29,
     "metadata": {},
     "output_type": "execute_result"
    }
   ],
   "source": [
    "(df.groupby('sex').std())"
   ]
  },
  {
   "cell_type": "code",
   "execution_count": 30,
   "metadata": {},
   "outputs": [
    {
     "name": "stdout",
     "output_type": "stream",
     "text": [
      "f\n",
      "  names    city   age sex age_2 age_3\n",
      "5  aysa  boston  34.0   f            \n",
      "m\n",
      "   names           city   age sex age_2 age_3\n",
      "0  kevin          seoul  31.0   m    64    74\n",
      "1   koko         boston  30.0   m    63    73\n",
      "2   haha             lA  66.0   m    99   109\n",
      "3  kevin  san francisco  33.0   m    66    76\n"
     ]
    }
   ],
   "source": [
    "#columns for each female and male by sex\n",
    "df.loc[5]=['aysa','boston',34,'f','','']\n",
    "for sex, table in df.groupby('sex'):\n",
    "    print(sex)\n",
    "    print(table)"
   ]
  },
  {
   "cell_type": "code",
   "execution_count": 31,
   "metadata": {},
   "outputs": [],
   "source": [
    "#save file\n",
    "df.to_csv('new_df.csv')\n",
    "df.to_excel('new_df.xlsx','sheet1')"
   ]
  },
  {
   "cell_type": "code",
   "execution_count": 32,
   "metadata": {},
   "outputs": [],
   "source": [
    "df.to_csv('new_df.csv')\n"
   ]
  },
  {
   "cell_type": "code",
   "execution_count": 33,
   "metadata": {},
   "outputs": [
    {
     "ename": "NameError",
     "evalue": "name 'ls' is not defined",
     "output_type": "error",
     "traceback": [
      "\u001b[1;31m---------------------------------------------------------------------------\u001b[0m",
      "\u001b[1;31mNameError\u001b[0m                                 Traceback (most recent call last)",
      "\u001b[1;32m<ipython-input-33-3dd72cf98f8e>\u001b[0m in \u001b[0;36m<module>\u001b[1;34m\u001b[0m\n\u001b[0;32m      1\u001b[0m \u001b[1;31m# to check if the file is saved\u001b[0m\u001b[1;33m\u001b[0m\u001b[1;33m\u001b[0m\u001b[1;33m\u001b[0m\u001b[0m\n\u001b[1;32m----> 2\u001b[1;33m \u001b[0mls\u001b[0m\u001b[1;33m\u001b[0m\u001b[1;33m\u001b[0m\u001b[0m\n\u001b[0m",
      "\u001b[1;31mNameError\u001b[0m: name 'ls' is not defined"
     ]
    }
   ],
   "source": [
    "# to check if the file is saved\n",
    "ls"
   ]
  },
  {
   "cell_type": "code",
   "execution_count": null,
   "metadata": {},
   "outputs": [],
   "source": [
    "# make sure you are not using windows, because cat in not recognized in windows\n",
    "!cat new_df.csv\n"
   ]
  },
  {
   "cell_type": "code",
   "execution_count": null,
   "metadata": {},
   "outputs": [],
   "source": [
    "df.to_excel('df_new.xlsx','sheet 1')"
   ]
  },
  {
   "cell_type": "code",
   "execution_count": null,
   "metadata": {},
   "outputs": [],
   "source": [
    "pd.read_excel (r'df_new.xlsx') #place \"r\" before the path string to address special character, such as '\\'. Don't forget to put the file name at the end of the path + '.xlsx'\n",
    "\n",
    "\n"
   ]
  },
  {
   "cell_type": "code",
   "execution_count": 37,
   "metadata": {},
   "outputs": [
    {
     "data": {
      "text/plain": [
       "<seaborn.axisgrid.FacetGrid at 0x1fa552d1130>"
      ]
     },
     "execution_count": 37,
     "metadata": {},
     "output_type": "execute_result"
    },
    {
     "data": {
      "image/png": "[encoded data removed]",
      "text/plain": [
       "<Figure size 360x360 with 1 Axes>"
      ]
     },
     "metadata": {
      "needs_background": "light"
     },
     "output_type": "display_data"
    }
   ],
   "source": [
    "#create the plot by seborn\n",
    "sns.catplot(x='names',y='age',data=df)"
   ]
  },
  {
   "cell_type": "code",
   "execution_count": 38,
   "metadata": {},
   "outputs": [
    {
     "data": {
      "text/plain": [
       "<seaborn.axisgrid.FacetGrid at 0x1fa55d2bfa0>"
      ]
     },
     "execution_count": 38,
     "metadata": {},
     "output_type": "execute_result"
    },
    {
     "data": {
      "image/png": "[encoded data removed]",
      "text/plain": [
       "<Figure size 360x360 with 1 Axes>"
      ]
     },
     "metadata": {
      "needs_background": "light"
     },
     "output_type": "display_data"
    }
   ],
   "source": [
    "#create the plot by seborn\n",
    "sns.catplot(x='names',y='age',data=df,kind='bar')"
   ]
  },
  {
   "cell_type": "code",
   "execution_count": 40,
   "metadata": {},
   "outputs": [
    {
     "data": {
      "text/plain": [
       "<seaborn.axisgrid.FacetGrid at 0x1fa55e01b80>"
      ]
     },
     "execution_count": 40,
     "metadata": {},
     "output_type": "execute_result"
    },
    {
     "data": {
      "image/png": "[encoded data removed]",
      "text/plain": [
       "<Figure size 360x720 with 2 Axes>"
      ]
     },
     "metadata": {
      "needs_background": "light"
     },
     "output_type": "display_data"
    }
   ],
   "source": [
    "#create the plot by seborn\n",
    "sns.catplot(x='names',y='age',data=df,kind='bar',row='sex')"
   ]
  },
  {
   "cell_type": "code",
   "execution_count": 41,
   "metadata": {},
   "outputs": [
    {
     "data": {
      "text/plain": [
       "<seaborn.axisgrid.FacetGrid at 0x1fa55d13670>"
      ]
     },
     "execution_count": 41,
     "metadata": {},
     "output_type": "execute_result"
    },
    {
     "data": {
      "image/png": "[encoded data removed]",
      "text/plain": [
       "<Figure size 720x360 with 2 Axes>"
      ]
     },
     "metadata": {
      "needs_background": "light"
     },
     "output_type": "display_data"
    }
   ],
   "source": [
    "#create the plot by seborn\n",
    "sns.catplot(x='names',y='age',data=df,kind='bar',col='sex')"
   ]
  },
  {
   "cell_type": "code",
   "execution_count": 43,
   "metadata": {},
   "outputs": [
    {
     "data": {
      "text/plain": [
       "<seaborn.axisgrid.FacetGrid at 0x1fa560bff40>"
      ]
     },
     "execution_count": 43,
     "metadata": {},
     "output_type": "execute_result"
    },
    {
     "data": {
      "image/png": "[encoded data removed]",
      "text/plain": [
       "<Figure size 360x360 with 1 Axes>"
      ]
     },
     "metadata": {
      "needs_background": "light"
     },
     "output_type": "display_data"
    }
   ],
   "source": [
    "#create the plot by seborn\n",
    "sns.catplot(x='sex',y='age',data=df,kind='box')"
   ]
  },
  {
   "cell_type": "code",
   "execution_count": 47,
   "metadata": {},
   "outputs": [
    {
     "data": {
      "text/html": [
       "<div>\n",
       "<style scoped>\n",
       "    .dataframe tbody tr th:only-of-type {\n",
       "        vertical-align: middle;\n",
       "    }\n",
       "\n",
       "    .dataframe tbody tr th {\n",
       "        vertical-align: top;\n",
       "    }\n",
       "\n",
       "    .dataframe thead th {\n",
       "        text-align: right;\n",
       "    }\n",
       "</style>\n",
       "<table border=\"1\" class=\"dataframe\">\n",
       "  <thead>\n",
       "    <tr style=\"text-align: right;\">\n",
       "      <th></th>\n",
       "      <th>name</th>\n",
       "      <th>dob</th>\n",
       "      <th>sex</th>\n",
       "      <th>scan_date</th>\n",
       "      <th>group</th>\n",
       "      <th>ICV</th>\n",
       "      <th>thalamus_volume</th>\n",
       "    </tr>\n",
       "  </thead>\n",
       "  <tbody>\n",
       "    <tr>\n",
       "      <th>0</th>\n",
       "      <td>spider</td>\n",
       "      <td>2003-01-09</td>\n",
       "      <td>M</td>\n",
       "      <td>2019-09-04</td>\n",
       "      <td>HC</td>\n",
       "      <td>14571.724058</td>\n",
       "      <td>7819.939517</td>\n",
       "    </tr>\n",
       "    <tr>\n",
       "      <th>1</th>\n",
       "      <td>february</td>\n",
       "      <td>1997-11-17</td>\n",
       "      <td>F</td>\n",
       "      <td>2019-05-21</td>\n",
       "      <td>HC</td>\n",
       "      <td>14050.024901</td>\n",
       "      <td>9775.751820</td>\n",
       "    </tr>\n",
       "    <tr>\n",
       "      <th>2</th>\n",
       "      <td>fox</td>\n",
       "      <td>2004-01-17</td>\n",
       "      <td>F</td>\n",
       "      <td>2019-11-05</td>\n",
       "      <td>HC</td>\n",
       "      <td>13602.843026</td>\n",
       "      <td>7024.236348</td>\n",
       "    </tr>\n",
       "    <tr>\n",
       "      <th>3</th>\n",
       "      <td>estate</td>\n",
       "      <td>1997-07-25</td>\n",
       "      <td>F</td>\n",
       "      <td>2018-09-08</td>\n",
       "      <td>HC</td>\n",
       "      <td>15200.517729</td>\n",
       "      <td>8989.244829</td>\n",
       "    </tr>\n",
       "    <tr>\n",
       "      <th>4</th>\n",
       "      <td>machine</td>\n",
       "      <td>1997-09-28</td>\n",
       "      <td>F</td>\n",
       "      <td>2019-02-11</td>\n",
       "      <td>SPR</td>\n",
       "      <td>13128.693549</td>\n",
       "      <td>6299.655894</td>\n",
       "    </tr>\n",
       "    <tr>\n",
       "      <th>...</th>\n",
       "      <td>...</td>\n",
       "      <td>...</td>\n",
       "      <td>...</td>\n",
       "      <td>...</td>\n",
       "      <td>...</td>\n",
       "      <td>...</td>\n",
       "      <td>...</td>\n",
       "    </tr>\n",
       "    <tr>\n",
       "      <th>404</th>\n",
       "      <td>mention</td>\n",
       "      <td>1990-03-25</td>\n",
       "      <td>M</td>\n",
       "      <td>2018-09-02</td>\n",
       "      <td>HC</td>\n",
       "      <td>16424.422960</td>\n",
       "      <td>6971.222070</td>\n",
       "    </tr>\n",
       "    <tr>\n",
       "      <th>405</th>\n",
       "      <td>same</td>\n",
       "      <td>2002-08-08</td>\n",
       "      <td>M</td>\n",
       "      <td>2018-01-01</td>\n",
       "      <td>SPR</td>\n",
       "      <td>13481.959952</td>\n",
       "      <td>7871.177863</td>\n",
       "    </tr>\n",
       "    <tr>\n",
       "      <th>406</th>\n",
       "      <td>convince</td>\n",
       "      <td>2001-10-07</td>\n",
       "      <td>M</td>\n",
       "      <td>2018-09-29</td>\n",
       "      <td>HC</td>\n",
       "      <td>14533.637771</td>\n",
       "      <td>7673.588169</td>\n",
       "    </tr>\n",
       "    <tr>\n",
       "      <th>407</th>\n",
       "      <td>symptom</td>\n",
       "      <td>1987-05-05</td>\n",
       "      <td>M</td>\n",
       "      <td>2018-12-29</td>\n",
       "      <td>SPR</td>\n",
       "      <td>16012.720041</td>\n",
       "      <td>6828.433826</td>\n",
       "    </tr>\n",
       "    <tr>\n",
       "      <th>408</th>\n",
       "      <td>pill</td>\n",
       "      <td>1989-07-26</td>\n",
       "      <td>M</td>\n",
       "      <td>2019-02-12</td>\n",
       "      <td>HC</td>\n",
       "      <td>16535.844943</td>\n",
       "      <td>8955.015499</td>\n",
       "    </tr>\n",
       "  </tbody>\n",
       "</table>\n",
       "<p>409 rows × 7 columns</p>\n",
       "</div>"
      ],
      "text/plain": [
       "         name         dob sex   scan_date group           ICV  thalamus_volume\n",
       "0      spider  2003-01-09   M  2019-09-04    HC  14571.724058      7819.939517\n",
       "1    february  1997-11-17   F  2019-05-21    HC  14050.024901      9775.751820\n",
       "2         fox  2004-01-17   F  2019-11-05    HC  13602.843026      7024.236348\n",
       "3      estate  1997-07-25   F  2018-09-08    HC  15200.517729      8989.244829\n",
       "4     machine  1997-09-28   F  2019-02-11   SPR  13128.693549      6299.655894\n",
       "..        ...         ...  ..         ...   ...           ...              ...\n",
       "404   mention  1990-03-25   M  2018-09-02    HC  16424.422960      6971.222070\n",
       "405      same  2002-08-08   M  2018-01-01   SPR  13481.959952      7871.177863\n",
       "406  convince  2001-10-07   M  2018-09-29    HC  14533.637771      7673.588169\n",
       "407   symptom  1987-05-05   M  2018-12-29   SPR  16012.720041      6828.433826\n",
       "408      pill  1989-07-26   M  2019-02-12    HC  16535.844943      8955.015499\n",
       "\n",
       "[409 rows x 7 columns]"
      ]
     },
     "execution_count": 47,
     "metadata": {},
     "output_type": "execute_result"
    }
   ],
   "source": [
    "demo_df=pd.read_csv('C:\\\\Users\\DELL\\Desktop\\data2\\python_4\\demo_df.csv',error_bad_lines=False,index_col=0)\n",
    "demo_df"
   ]
  },
  {
   "cell_type": "code",
   "execution_count": 48,
   "metadata": {},
   "outputs": [
    {
     "data": {
      "text/html": [
       "<div>\n",
       "<style scoped>\n",
       "    .dataframe tbody tr th:only-of-type {\n",
       "        vertical-align: middle;\n",
       "    }\n",
       "\n",
       "    .dataframe tbody tr th {\n",
       "        vertical-align: top;\n",
       "    }\n",
       "\n",
       "    .dataframe thead th {\n",
       "        text-align: right;\n",
       "    }\n",
       "</style>\n",
       "<table border=\"1\" class=\"dataframe\">\n",
       "  <thead>\n",
       "    <tr style=\"text-align: right;\">\n",
       "      <th></th>\n",
       "      <th>name</th>\n",
       "      <th>dob</th>\n",
       "      <th>sex</th>\n",
       "      <th>scan_date</th>\n",
       "      <th>group</th>\n",
       "      <th>ICV</th>\n",
       "      <th>thalamus_volume</th>\n",
       "    </tr>\n",
       "  </thead>\n",
       "  <tbody>\n",
       "    <tr>\n",
       "      <th>0</th>\n",
       "      <td>spider</td>\n",
       "      <td>2003-01-09</td>\n",
       "      <td>M</td>\n",
       "      <td>2019-09-04</td>\n",
       "      <td>HC</td>\n",
       "      <td>14571.724058</td>\n",
       "      <td>7819.939517</td>\n",
       "    </tr>\n",
       "    <tr>\n",
       "      <th>1</th>\n",
       "      <td>february</td>\n",
       "      <td>1997-11-17</td>\n",
       "      <td>F</td>\n",
       "      <td>2019-05-21</td>\n",
       "      <td>HC</td>\n",
       "      <td>14050.024901</td>\n",
       "      <td>9775.751820</td>\n",
       "    </tr>\n",
       "    <tr>\n",
       "      <th>2</th>\n",
       "      <td>fox</td>\n",
       "      <td>2004-01-17</td>\n",
       "      <td>F</td>\n",
       "      <td>2019-11-05</td>\n",
       "      <td>HC</td>\n",
       "      <td>13602.843026</td>\n",
       "      <td>7024.236348</td>\n",
       "    </tr>\n",
       "    <tr>\n",
       "      <th>3</th>\n",
       "      <td>estate</td>\n",
       "      <td>1997-07-25</td>\n",
       "      <td>F</td>\n",
       "      <td>2018-09-08</td>\n",
       "      <td>HC</td>\n",
       "      <td>15200.517729</td>\n",
       "      <td>8989.244829</td>\n",
       "    </tr>\n",
       "    <tr>\n",
       "      <th>4</th>\n",
       "      <td>machine</td>\n",
       "      <td>1997-09-28</td>\n",
       "      <td>F</td>\n",
       "      <td>2019-02-11</td>\n",
       "      <td>SPR</td>\n",
       "      <td>13128.693549</td>\n",
       "      <td>6299.655894</td>\n",
       "    </tr>\n",
       "  </tbody>\n",
       "</table>\n",
       "</div>"
      ],
      "text/plain": [
       "       name         dob sex   scan_date group           ICV  thalamus_volume\n",
       "0    spider  2003-01-09   M  2019-09-04    HC  14571.724058      7819.939517\n",
       "1  february  1997-11-17   F  2019-05-21    HC  14050.024901      9775.751820\n",
       "2       fox  2004-01-17   F  2019-11-05    HC  13602.843026      7024.236348\n",
       "3    estate  1997-07-25   F  2018-09-08    HC  15200.517729      8989.244829\n",
       "4   machine  1997-09-28   F  2019-02-11   SPR  13128.693549      6299.655894"
      ]
     },
     "execution_count": 48,
     "metadata": {},
     "output_type": "execute_result"
    }
   ],
   "source": [
    "demo_df.head()"
   ]
  },
  {
   "cell_type": "code",
   "execution_count": 56,
   "metadata": {},
   "outputs": [],
   "source": [
    "demo_df.dob=pd.to_datetime(demo_df.dob)\n",
    "demo_df.scan_date=pd.to_datetime(demo_df.scan_date)"
   ]
  },
  {
   "cell_type": "code",
   "execution_count": 60,
   "metadata": {},
   "outputs": [],
   "source": [
    "#how to measure the age of subjects\n",
    "demo_df['age']=demo_df.scan_date-demo_df.dob"
   ]
  },
  {
   "cell_type": "code",
   "execution_count": 62,
   "metadata": {},
   "outputs": [],
   "source": [
    "demo_df['age']=demo_df['age']/np.timedelta64(1,'Y')"
   ]
  },
  {
   "cell_type": "code",
   "execution_count": 63,
   "metadata": {},
   "outputs": [
    {
     "data": {
      "text/html": [
       "<div>\n",
       "<style scoped>\n",
       "    .dataframe tbody tr th:only-of-type {\n",
       "        vertical-align: middle;\n",
       "    }\n",
       "\n",
       "    .dataframe tbody tr th {\n",
       "        vertical-align: top;\n",
       "    }\n",
       "\n",
       "    .dataframe thead th {\n",
       "        text-align: right;\n",
       "    }\n",
       "</style>\n",
       "<table border=\"1\" class=\"dataframe\">\n",
       "  <thead>\n",
       "    <tr style=\"text-align: right;\">\n",
       "      <th></th>\n",
       "      <th>name</th>\n",
       "      <th>dob</th>\n",
       "      <th>sex</th>\n",
       "      <th>scan_date</th>\n",
       "      <th>group</th>\n",
       "      <th>ICV</th>\n",
       "      <th>thalamus_volume</th>\n",
       "      <th>age</th>\n",
       "    </tr>\n",
       "  </thead>\n",
       "  <tbody>\n",
       "    <tr>\n",
       "      <th>0</th>\n",
       "      <td>spider</td>\n",
       "      <td>2003-01-09</td>\n",
       "      <td>M</td>\n",
       "      <td>2019-09-04</td>\n",
       "      <td>HC</td>\n",
       "      <td>14571.724058</td>\n",
       "      <td>7819.939517</td>\n",
       "      <td>16.651950</td>\n",
       "    </tr>\n",
       "    <tr>\n",
       "      <th>1</th>\n",
       "      <td>february</td>\n",
       "      <td>1997-11-17</td>\n",
       "      <td>F</td>\n",
       "      <td>2019-05-21</td>\n",
       "      <td>HC</td>\n",
       "      <td>14050.024901</td>\n",
       "      <td>9775.751820</td>\n",
       "      <td>21.506260</td>\n",
       "    </tr>\n",
       "    <tr>\n",
       "      <th>2</th>\n",
       "      <td>fox</td>\n",
       "      <td>2004-01-17</td>\n",
       "      <td>F</td>\n",
       "      <td>2019-11-05</td>\n",
       "      <td>HC</td>\n",
       "      <td>13602.843026</td>\n",
       "      <td>7024.236348</td>\n",
       "      <td>15.800461</td>\n",
       "    </tr>\n",
       "    <tr>\n",
       "      <th>3</th>\n",
       "      <td>estate</td>\n",
       "      <td>1997-07-25</td>\n",
       "      <td>F</td>\n",
       "      <td>2018-09-08</td>\n",
       "      <td>HC</td>\n",
       "      <td>15200.517729</td>\n",
       "      <td>8989.244829</td>\n",
       "      <td>21.122953</td>\n",
       "    </tr>\n",
       "    <tr>\n",
       "      <th>4</th>\n",
       "      <td>machine</td>\n",
       "      <td>1997-09-28</td>\n",
       "      <td>F</td>\n",
       "      <td>2019-02-11</td>\n",
       "      <td>SPR</td>\n",
       "      <td>13128.693549</td>\n",
       "      <td>6299.655894</td>\n",
       "      <td>21.372102</td>\n",
       "    </tr>\n",
       "  </tbody>\n",
       "</table>\n",
       "</div>"
      ],
      "text/plain": [
       "       name        dob sex  scan_date group           ICV  thalamus_volume  \\\n",
       "0    spider 2003-01-09   M 2019-09-04    HC  14571.724058      7819.939517   \n",
       "1  february 1997-11-17   F 2019-05-21    HC  14050.024901      9775.751820   \n",
       "2       fox 2004-01-17   F 2019-11-05    HC  13602.843026      7024.236348   \n",
       "3    estate 1997-07-25   F 2018-09-08    HC  15200.517729      8989.244829   \n",
       "4   machine 1997-09-28   F 2019-02-11   SPR  13128.693549      6299.655894   \n",
       "\n",
       "         age  \n",
       "0  16.651950  \n",
       "1  21.506260  \n",
       "2  15.800461  \n",
       "3  21.122953  \n",
       "4  21.372102  "
      ]
     },
     "execution_count": 63,
     "metadata": {},
     "output_type": "execute_result"
    }
   ],
   "source": [
    "demo_df.head()"
   ]
  },
  {
   "cell_type": "code",
   "execution_count": 66,
   "metadata": {},
   "outputs": [
    {
     "data": {
      "text/plain": [
       "<matplotlib.axes._subplots.AxesSubplot at 0x1fa56136cd0>"
      ]
     },
     "execution_count": 66,
     "metadata": {},
     "output_type": "execute_result"
    },
    {
     "data": {
      "image/png": "[encoded data removed]",
      "text/plain": [
       "<Figure size 432x288 with 1 Axes>"
      ]
     },
     "metadata": {
      "needs_background": "light"
     },
     "output_type": "display_data"
    }
   ],
   "source": [
    "sns.countplot(x= 'group',hue='sex',data=demo_df)"
   ]
  },
  {
   "cell_type": "code",
   "execution_count": 67,
   "metadata": {},
   "outputs": [
    {
     "data": {
      "text/plain": [
       "<seaborn.axisgrid.FacetGrid at 0x1fa563139a0>"
      ]
     },
     "execution_count": 67,
     "metadata": {},
     "output_type": "execute_result"
    },
    {
     "data": {
      "image/png": "[encoded data removed]",
      "text/plain": [
       "<Figure size 360x360 with 1 Axes>"
      ]
     },
     "metadata": {
      "needs_background": "light"
     },
     "output_type": "display_data"
    }
   ],
   "source": [
    "sns.catplot(x='name',y='dob',data=demo_df)"
   ]
  },
  {
   "cell_type": "code",
   "execution_count": 69,
   "metadata": {},
   "outputs": [
    {
     "data": {
      "text/plain": [
       "<seaborn.axisgrid.FacetGrid at 0x1fa57af1070>"
      ]
     },
     "execution_count": 69,
     "metadata": {},
     "output_type": "execute_result"
    },
    {
     "data": {
      "image/png": "[encoded data removed]",
      "text/plain": [
       "<Figure size 720x360 with 2 Axes>"
      ]
     },
     "metadata": {
      "needs_background": "light"
     },
     "output_type": "display_data"
    }
   ],
   "source": [
    "sns.catplot(x='name',y='age',data=demo_df,col='group')"
   ]
  },
  {
   "cell_type": "code",
   "execution_count": 70,
   "metadata": {},
   "outputs": [
    {
     "data": {
      "text/plain": [
       "<seaborn.axisgrid.FacetGrid at 0x1fa560bfd60>"
      ]
     },
     "execution_count": 70,
     "metadata": {},
     "output_type": "execute_result"
    },
    {
     "data": {
      "image/png": "[encoded data removed]",
      "text/plain": [
       "<Figure size 720x720 with 4 Axes>"
      ]
     },
     "metadata": {
      "needs_background": "light"
     },
     "output_type": "display_data"
    }
   ],
   "source": [
    "sns.catplot(x='name',y='age',data=demo_df,col='group',row='sex')"
   ]
  },
  {
   "cell_type": "code",
   "execution_count": 71,
   "metadata": {},
   "outputs": [
    {
     "data": {
      "text/plain": [
       "<seaborn.axisgrid.FacetGrid at 0x1fa5523b730>"
      ]
     },
     "execution_count": 71,
     "metadata": {},
     "output_type": "execute_result"
    },
    {
     "data": {
      "image/png": "[encoded data removed]",
      "text/plain": [
       "<Figure size 720x720 with 4 Axes>"
      ]
     },
     "metadata": {
      "needs_background": "light"
     },
     "output_type": "display_data"
    }
   ],
   "source": [
    "sns.catplot(x='name',y='age',data=demo_df,col='group',row='sex',kind='box')"
   ]
  },
  {
   "cell_type": "code",
   "execution_count": 72,
   "metadata": {},
   "outputs": [
    {
     "data": {
      "text/plain": [
       "<seaborn.axisgrid.FacetGrid at 0x1fa61ef8d60>"
      ]
     },
     "execution_count": 72,
     "metadata": {},
     "output_type": "execute_result"
    },
    {
     "data": {
      "image/png": "[encoded data removed]",
      "text/plain": [
       "<Figure size 720x720 with 4 Axes>"
      ]
     },
     "metadata": {
      "needs_background": "light"
     },
     "output_type": "display_data"
    }
   ],
   "source": [
    "sns.catplot(x='name',y='thalamus_volume',data=demo_df,col='group',row='sex',kind='box')"
   ]
  },
  {
   "cell_type": "code",
   "execution_count": 73,
   "metadata": {},
   "outputs": [
    {
     "data": {
      "text/plain": [
       "<seaborn.axisgrid.FacetGrid at 0x1fa61bd7400>"
      ]
     },
     "execution_count": 73,
     "metadata": {},
     "output_type": "execute_result"
    },
    {
     "data": {
      "image/png": "[encoded data removed]",
      "text/plain": [
       "<Figure size 415.125x720 with 2 Axes>"
      ]
     },
     "metadata": {
      "needs_background": "light"
     },
     "output_type": "display_data"
    }
   ],
   "source": [
    "sns.lmplot(x='thalamus_volume',y='ICV',data=demo_df,hue='group',row='sex')"
   ]
  },
  {
   "cell_type": "code",
   "execution_count": 74,
   "metadata": {},
   "outputs": [
    {
     "name": "stderr",
     "output_type": "stream",
     "text": [
      "C:\\ProgramData\\Anaconda3\\lib\\site-packages\\seaborn\\distributions.py:434: UserWarning: The following kwargs were not used by contour: 'hue'\n",
      "  cset = contour_func(xx, yy, z, n_levels, **kwargs)\n"
     ]
    },
    {
     "data": {
      "image/png": "[encoded data removed]",
      "text/plain": [
       "<Figure size 432x432 with 3 Axes>"
      ]
     },
     "metadata": {
      "needs_background": "light"
     },
     "output_type": "display_data"
    }
   ],
   "source": [
    "g = sns.jointplot(data=demo_df, x=\"thalamus_volume\", y=\"ICV\", hue=\"group\",\n",
    "    kind=\"kde\",)"
   ]
  },
  {
   "cell_type": "code",
   "execution_count": 75,
   "metadata": {},
   "outputs": [
    {
     "name": "stderr",
     "output_type": "stream",
     "text": [
      "C:\\ProgramData\\Anaconda3\\lib\\site-packages\\seaborn\\distributions.py:434: UserWarning: The following kwargs were not used by contour: 'hue'\n",
      "  cset = contour_func(xx, yy, z, n_levels, **kwargs)\n"
     ]
    },
    {
     "data": {
      "image/png": "[encoded data removed]",
      "text/plain": [
       "<Figure size 432x432 with 3 Axes>"
      ]
     },
     "metadata": {
      "needs_background": "light"
     },
     "output_type": "display_data"
    }
   ],
   "source": [
    "g = sns.jointplot(data=demo_df, x=\"thalamus_volume\", y=\"age\", hue=\"group\",\n",
    "    kind=\"kde\",)"
   ]
  },
  {
   "cell_type": "code",
   "execution_count": 81,
   "metadata": {},
   "outputs": [
    {
     "ename": "AttributeError",
     "evalue": "'FacetGrid' object has no attribute 'axes_dict'",
     "output_type": "error",
     "traceback": [
      "\u001b[1;31m---------------------------------------------------------------------------\u001b[0m",
      "\u001b[1;31mAttributeError\u001b[0m                            Traceback (most recent call last)",
      "\u001b[1;32m<ipython-input-81-21f09523c5c8>\u001b[0m in \u001b[0;36m<module>\u001b[1;34m\u001b[0m\n\u001b[0;32m      7\u001b[0m \u001b[1;33m\u001b[0m\u001b[0m\n\u001b[0;32m      8\u001b[0m \u001b[1;31m# Iterate over each subplot to customize further\u001b[0m\u001b[1;33m\u001b[0m\u001b[1;33m\u001b[0m\u001b[1;33m\u001b[0m\u001b[0m\n\u001b[1;32m----> 9\u001b[1;33m \u001b[1;32mfor\u001b[0m \u001b[0mage\u001b[0m\u001b[1;33m,\u001b[0m \u001b[0max\u001b[0m \u001b[1;32min\u001b[0m \u001b[0mg\u001b[0m\u001b[1;33m.\u001b[0m\u001b[0maxes_dict\u001b[0m\u001b[1;33m.\u001b[0m\u001b[0mitems\u001b[0m\u001b[1;33m(\u001b[0m\u001b[1;33m)\u001b[0m\u001b[1;33m:\u001b[0m\u001b[1;33m\u001b[0m\u001b[1;33m\u001b[0m\u001b[0m\n\u001b[0m\u001b[0;32m     10\u001b[0m \u001b[1;33m\u001b[0m\u001b[0m\n\u001b[0;32m     11\u001b[0m     \u001b[1;31m# Add the title as an annotation within the plot\u001b[0m\u001b[1;33m\u001b[0m\u001b[1;33m\u001b[0m\u001b[1;33m\u001b[0m\u001b[0m\n",
      "\u001b[1;31mAttributeError\u001b[0m: 'FacetGrid' object has no attribute 'axes_dict'"
     ]
    },
    {
     "data": {
      "image/png": "[encoded data removed]",
      "text/plain": [
       "<Figure size 648x144 with 2 Axes>"
      ]
     },
     "metadata": {
      "needs_background": "light"
     },
     "output_type": "display_data"
    }
   ],
   "source": [
    "g = sns.relplot(\n",
    "    data=demo_df,\n",
    "    x=\"age\", y=\"thalamus_volume\", col=\"sex\", hue=\"sex\",\n",
    "    kind=\"line\", linewidth=4, zorder=5,\n",
    "    col_wrap=3, height=2, aspect=1.5, legend=False,\n",
    ")\n",
    "\n",
    "# Iterate over each subplot to customize further\n",
    "for age, ax in g.axes_dict.items():\n",
    "\n",
    "    # Add the title as an annotation within the plot\n",
    "    ax.text(.2, .25, age, transform=ax.transAxes, fontweight=\"bold\")\n",
    "\n",
    "    # Plot every year's time series in the background\n",
    "    sns.lineplot(\n",
    "        data=flights, x=\"age\", y=\"thalamus_volume\", units=\"age\",\n",
    "        estimator=None, color=\".7\", linewidth=1, ax=ax,\n",
    "    )\n",
    "\n",
    "# Reduce the frequency of the x axis ticks\n",
    "ax.set_xticks(ax.get_xticks()[::2])\n",
    "\n",
    "# Tweak the supporting aspects of the plot\n",
    "g.set_titles(\"\")\n",
    "g.set_axis_labels(\"\", \"thalamu_volume\")\n",
    "g.tight_layout()\n"
   ]
  },
  {
   "cell_type": "code",
   "execution_count": 86,
   "metadata": {},
   "outputs": [
    {
     "data": {
      "image/png": "[encoded data removed]",
      "text/plain": [
       "<Figure size 432x432 with 3 Axes>"
      ]
     },
     "metadata": {
      "needs_background": "light"
     },
     "output_type": "display_data"
    }
   ],
   "source": [
    "g = sns.jointplot(\"age\",\"ICV\", data=demo_df,\n",
    "                  kind='reg')"
   ]
  },
  {
   "cell_type": "code",
   "execution_count": 87,
   "metadata": {},
   "outputs": [
    {
     "data": {
      "text/plain": [
       "[Text(0, 0.5, '')]"
      ]
     },
     "execution_count": 87,
     "metadata": {},
     "output_type": "execute_result"
    },
    {
     "data": {
      "image/png": "[encoded data removed]",
      "text/plain": [
       "<Figure size 432x288 with 1 Axes>"
      ]
     },
     "metadata": {
      "needs_background": "light"
     },
     "output_type": "display_data"
    }
   ],
   "source": [
    "# Draw a categorical scatterplot to show each observation\n",
    "ax = sns.swarmplot(data=demo_df, x=\"age\", y=\"ICV\", hue=\"sex\")\n",
    "ax.set(ylabel=\"\")"
   ]
  },
  {
   "cell_type": "code",
   "execution_count": 89,
   "metadata": {},
   "outputs": [
    {
     "data": {
      "text/plain": [
       "<seaborn.axisgrid.FacetGrid at 0x1fa67083340>"
      ]
     },
     "execution_count": 89,
     "metadata": {},
     "output_type": "execute_result"
    },
    {
     "data": {
      "image/png": "[encoded data removed]",
      "text/plain": [
       "<Figure size 496.875x432 with 1 Axes>"
      ]
     },
     "metadata": {
      "needs_background": "light"
     },
     "output_type": "display_data"
    }
   ],
   "source": [
    "sns.relplot(x=\"ICV\", y=\"thalamus_volume\", hue=\"group\", size=\"age\",\n",
    "            sizes=(40, 400), alpha=.5, palette=\"muted\",\n",
    "            height=6, data=demo_df)"
   ]
  },
  {
   "cell_type": "code",
   "execution_count": 90,
   "metadata": {},
   "outputs": [],
   "source": [
    "new_df=pd.DataFrame()\n",
    "new_df['name']=demo_df['name']"
   ]
  },
  {
   "cell_type": "code",
   "execution_count": 92,
   "metadata": {
    "scrolled": true
   },
   "outputs": [
    {
     "data": {
      "text/html": [
       "<div>\n",
       "<style scoped>\n",
       "    .dataframe tbody tr th:only-of-type {\n",
       "        vertical-align: middle;\n",
       "    }\n",
       "\n",
       "    .dataframe tbody tr th {\n",
       "        vertical-align: top;\n",
       "    }\n",
       "\n",
       "    .dataframe thead th {\n",
       "        text-align: right;\n",
       "    }\n",
       "</style>\n",
       "<table border=\"1\" class=\"dataframe\">\n",
       "  <thead>\n",
       "    <tr style=\"text-align: right;\">\n",
       "      <th></th>\n",
       "      <th>name</th>\n",
       "    </tr>\n",
       "  </thead>\n",
       "  <tbody>\n",
       "    <tr>\n",
       "      <th>0</th>\n",
       "      <td>spider</td>\n",
       "    </tr>\n",
       "    <tr>\n",
       "      <th>1</th>\n",
       "      <td>february</td>\n",
       "    </tr>\n",
       "    <tr>\n",
       "      <th>2</th>\n",
       "      <td>fox</td>\n",
       "    </tr>\n",
       "    <tr>\n",
       "      <th>3</th>\n",
       "      <td>estate</td>\n",
       "    </tr>\n",
       "    <tr>\n",
       "      <th>4</th>\n",
       "      <td>machine</td>\n",
       "    </tr>\n",
       "    <tr>\n",
       "      <th>...</th>\n",
       "      <td>...</td>\n",
       "    </tr>\n",
       "    <tr>\n",
       "      <th>404</th>\n",
       "      <td>mention</td>\n",
       "    </tr>\n",
       "    <tr>\n",
       "      <th>405</th>\n",
       "      <td>same</td>\n",
       "    </tr>\n",
       "    <tr>\n",
       "      <th>406</th>\n",
       "      <td>convince</td>\n",
       "    </tr>\n",
       "    <tr>\n",
       "      <th>407</th>\n",
       "      <td>symptom</td>\n",
       "    </tr>\n",
       "    <tr>\n",
       "      <th>408</th>\n",
       "      <td>pill</td>\n",
       "    </tr>\n",
       "  </tbody>\n",
       "</table>\n",
       "<p>409 rows × 1 columns</p>\n",
       "</div>"
      ],
      "text/plain": [
       "         name\n",
       "0      spider\n",
       "1    february\n",
       "2         fox\n",
       "3      estate\n",
       "4     machine\n",
       "..        ...\n",
       "404   mention\n",
       "405      same\n",
       "406  convince\n",
       "407   symptom\n",
       "408      pill\n",
       "\n",
       "[409 rows x 1 columns]"
      ]
     },
     "execution_count": 92,
     "metadata": {},
     "output_type": "execute_result"
    }
   ],
   "source": [
    "new_df"
   ]
  },
  {
   "cell_type": "code",
   "execution_count": 94,
   "metadata": {},
   "outputs": [
    {
     "data": {
      "text/plain": [
       "409"
      ]
     },
     "execution_count": 94,
     "metadata": {},
     "output_type": "execute_result"
    }
   ],
   "source": [
    "len(np.random.normal(2500,500,len(demo_df)))"
   ]
  },
  {
   "cell_type": "code",
   "execution_count": 95,
   "metadata": {},
   "outputs": [
    {
     "data": {
      "text/plain": [
       "5"
      ]
     },
     "execution_count": 95,
     "metadata": {},
     "output_type": "execute_result"
    }
   ],
   "source": [
    "len(df)"
   ]
  },
  {
   "cell_type": "code",
   "execution_count": 100,
   "metadata": {},
   "outputs": [],
   "source": [
    "#get a random value from normal distribution\n",
    "new_df['lh_hippo_volume']=np.random.normal(2500,500,len(new_df))\n",
    "new_df['rh_hippo_volume']=np.random.normal(2500,500,len(new_df))\n"
   ]
  },
  {
   "cell_type": "code",
   "execution_count": 101,
   "metadata": {},
   "outputs": [
    {
     "data": {
      "text/html": [
       "<div>\n",
       "<style scoped>\n",
       "    .dataframe tbody tr th:only-of-type {\n",
       "        vertical-align: middle;\n",
       "    }\n",
       "\n",
       "    .dataframe tbody tr th {\n",
       "        vertical-align: top;\n",
       "    }\n",
       "\n",
       "    .dataframe thead th {\n",
       "        text-align: right;\n",
       "    }\n",
       "</style>\n",
       "<table border=\"1\" class=\"dataframe\">\n",
       "  <thead>\n",
       "    <tr style=\"text-align: right;\">\n",
       "      <th></th>\n",
       "      <th>name</th>\n",
       "      <th>lh_hippo_volume</th>\n",
       "      <th>rh_hippo_volume</th>\n",
       "    </tr>\n",
       "  </thead>\n",
       "  <tbody>\n",
       "    <tr>\n",
       "      <th>0</th>\n",
       "      <td>spider</td>\n",
       "      <td>2380.126429</td>\n",
       "      <td>2267.407187</td>\n",
       "    </tr>\n",
       "    <tr>\n",
       "      <th>1</th>\n",
       "      <td>february</td>\n",
       "      <td>2279.223884</td>\n",
       "      <td>2480.568961</td>\n",
       "    </tr>\n",
       "    <tr>\n",
       "      <th>2</th>\n",
       "      <td>fox</td>\n",
       "      <td>2874.090456</td>\n",
       "      <td>2683.961904</td>\n",
       "    </tr>\n",
       "    <tr>\n",
       "      <th>3</th>\n",
       "      <td>estate</td>\n",
       "      <td>1805.353868</td>\n",
       "      <td>1649.124380</td>\n",
       "    </tr>\n",
       "    <tr>\n",
       "      <th>4</th>\n",
       "      <td>machine</td>\n",
       "      <td>1420.133569</td>\n",
       "      <td>2012.948313</td>\n",
       "    </tr>\n",
       "  </tbody>\n",
       "</table>\n",
       "</div>"
      ],
      "text/plain": [
       "       name  lh_hippo_volume  rh_hippo_volume\n",
       "0    spider      2380.126429      2267.407187\n",
       "1  february      2279.223884      2480.568961\n",
       "2       fox      2874.090456      2683.961904\n",
       "3    estate      1805.353868      1649.124380\n",
       "4   machine      1420.133569      2012.948313"
      ]
     },
     "execution_count": 101,
     "metadata": {},
     "output_type": "execute_result"
    }
   ],
   "source": [
    "new_df.head()"
   ]
  },
  {
   "cell_type": "code",
   "execution_count": 114,
   "metadata": {},
   "outputs": [
    {
     "data": {
      "text/html": [
       "<div>\n",
       "<style scoped>\n",
       "    .dataframe tbody tr th:only-of-type {\n",
       "        vertical-align: middle;\n",
       "    }\n",
       "\n",
       "    .dataframe tbody tr th {\n",
       "        vertical-align: top;\n",
       "    }\n",
       "\n",
       "    .dataframe thead th {\n",
       "        text-align: right;\n",
       "    }\n",
       "</style>\n",
       "<table border=\"1\" class=\"dataframe\">\n",
       "  <thead>\n",
       "    <tr style=\"text-align: right;\">\n",
       "      <th></th>\n",
       "      <th>name</th>\n",
       "      <th>dob</th>\n",
       "      <th>sex</th>\n",
       "      <th>scan_date</th>\n",
       "      <th>group</th>\n",
       "      <th>ICV</th>\n",
       "      <th>thalamus_volume</th>\n",
       "      <th>age</th>\n",
       "    </tr>\n",
       "  </thead>\n",
       "  <tbody>\n",
       "    <tr>\n",
       "      <th>0</th>\n",
       "      <td>spider</td>\n",
       "      <td>2003-01-09</td>\n",
       "      <td>M</td>\n",
       "      <td>2019-09-04</td>\n",
       "      <td>HC</td>\n",
       "      <td>14571.724058</td>\n",
       "      <td>7819.939517</td>\n",
       "      <td>16.651950</td>\n",
       "    </tr>\n",
       "    <tr>\n",
       "      <th>1</th>\n",
       "      <td>february</td>\n",
       "      <td>1997-11-17</td>\n",
       "      <td>F</td>\n",
       "      <td>2019-05-21</td>\n",
       "      <td>HC</td>\n",
       "      <td>14050.024901</td>\n",
       "      <td>9775.751820</td>\n",
       "      <td>21.506260</td>\n",
       "    </tr>\n",
       "    <tr>\n",
       "      <th>2</th>\n",
       "      <td>fox</td>\n",
       "      <td>2004-01-17</td>\n",
       "      <td>F</td>\n",
       "      <td>2019-11-05</td>\n",
       "      <td>HC</td>\n",
       "      <td>13602.843026</td>\n",
       "      <td>7024.236348</td>\n",
       "      <td>15.800461</td>\n",
       "    </tr>\n",
       "    <tr>\n",
       "      <th>3</th>\n",
       "      <td>estate</td>\n",
       "      <td>1997-07-25</td>\n",
       "      <td>F</td>\n",
       "      <td>2018-09-08</td>\n",
       "      <td>HC</td>\n",
       "      <td>15200.517729</td>\n",
       "      <td>8989.244829</td>\n",
       "      <td>21.122953</td>\n",
       "    </tr>\n",
       "    <tr>\n",
       "      <th>4</th>\n",
       "      <td>machine</td>\n",
       "      <td>1997-09-28</td>\n",
       "      <td>F</td>\n",
       "      <td>2019-02-11</td>\n",
       "      <td>SPR</td>\n",
       "      <td>13128.693549</td>\n",
       "      <td>6299.655894</td>\n",
       "      <td>21.372102</td>\n",
       "    </tr>\n",
       "  </tbody>\n",
       "</table>\n",
       "</div>"
      ],
      "text/plain": [
       "       name        dob sex  scan_date group           ICV  thalamus_volume  \\\n",
       "0    spider 2003-01-09   M 2019-09-04    HC  14571.724058      7819.939517   \n",
       "1  february 1997-11-17   F 2019-05-21    HC  14050.024901      9775.751820   \n",
       "2       fox 2004-01-17   F 2019-11-05    HC  13602.843026      7024.236348   \n",
       "3    estate 1997-07-25   F 2018-09-08    HC  15200.517729      8989.244829   \n",
       "4   machine 1997-09-28   F 2019-02-11   SPR  13128.693549      6299.655894   \n",
       "\n",
       "         age  \n",
       "0  16.651950  \n",
       "1  21.506260  \n",
       "2  15.800461  \n",
       "3  21.122953  \n",
       "4  21.372102  "
      ]
     },
     "execution_count": 114,
     "metadata": {},
     "output_type": "execute_result"
    }
   ],
   "source": [
    "demo_df.head()"
   ]
  },
  {
   "cell_type": "code",
   "execution_count": 115,
   "metadata": {},
   "outputs": [
    {
     "data": {
      "text/html": [
       "<div>\n",
       "<style scoped>\n",
       "    .dataframe tbody tr th:only-of-type {\n",
       "        vertical-align: middle;\n",
       "    }\n",
       "\n",
       "    .dataframe tbody tr th {\n",
       "        vertical-align: top;\n",
       "    }\n",
       "\n",
       "    .dataframe thead th {\n",
       "        text-align: right;\n",
       "    }\n",
       "</style>\n",
       "<table border=\"1\" class=\"dataframe\">\n",
       "  <thead>\n",
       "    <tr style=\"text-align: right;\">\n",
       "      <th></th>\n",
       "      <th>name</th>\n",
       "      <th>dob</th>\n",
       "      <th>sex</th>\n",
       "      <th>scan_date</th>\n",
       "      <th>group</th>\n",
       "      <th>ICV</th>\n",
       "      <th>thalamus_volume</th>\n",
       "      <th>age</th>\n",
       "      <th>lh_hippo_volume</th>\n",
       "      <th>rh_hippo_volume</th>\n",
       "    </tr>\n",
       "  </thead>\n",
       "  <tbody>\n",
       "    <tr>\n",
       "      <th>0</th>\n",
       "      <td>spider</td>\n",
       "      <td>2003-01-09</td>\n",
       "      <td>M</td>\n",
       "      <td>2019-09-04</td>\n",
       "      <td>HC</td>\n",
       "      <td>14571.724058</td>\n",
       "      <td>7819.939517</td>\n",
       "      <td>16.651950</td>\n",
       "      <td>2380.126429</td>\n",
       "      <td>2267.407187</td>\n",
       "    </tr>\n",
       "    <tr>\n",
       "      <th>1</th>\n",
       "      <td>february</td>\n",
       "      <td>1997-11-17</td>\n",
       "      <td>F</td>\n",
       "      <td>2019-05-21</td>\n",
       "      <td>HC</td>\n",
       "      <td>14050.024901</td>\n",
       "      <td>9775.751820</td>\n",
       "      <td>21.506260</td>\n",
       "      <td>2279.223884</td>\n",
       "      <td>2480.568961</td>\n",
       "    </tr>\n",
       "    <tr>\n",
       "      <th>2</th>\n",
       "      <td>february</td>\n",
       "      <td>1997-11-17</td>\n",
       "      <td>F</td>\n",
       "      <td>2019-05-21</td>\n",
       "      <td>HC</td>\n",
       "      <td>14050.024901</td>\n",
       "      <td>9775.751820</td>\n",
       "      <td>21.506260</td>\n",
       "      <td>2283.732459</td>\n",
       "      <td>2270.900726</td>\n",
       "    </tr>\n",
       "    <tr>\n",
       "      <th>3</th>\n",
       "      <td>february</td>\n",
       "      <td>2002-09-21</td>\n",
       "      <td>M</td>\n",
       "      <td>2019-08-07</td>\n",
       "      <td>HC</td>\n",
       "      <td>14160.306539</td>\n",
       "      <td>5650.184666</td>\n",
       "      <td>16.876459</td>\n",
       "      <td>2279.223884</td>\n",
       "      <td>2480.568961</td>\n",
       "    </tr>\n",
       "    <tr>\n",
       "      <th>4</th>\n",
       "      <td>february</td>\n",
       "      <td>2002-09-21</td>\n",
       "      <td>M</td>\n",
       "      <td>2019-08-07</td>\n",
       "      <td>HC</td>\n",
       "      <td>14160.306539</td>\n",
       "      <td>5650.184666</td>\n",
       "      <td>16.876459</td>\n",
       "      <td>2283.732459</td>\n",
       "      <td>2270.900726</td>\n",
       "    </tr>\n",
       "    <tr>\n",
       "      <th>...</th>\n",
       "      <td>...</td>\n",
       "      <td>...</td>\n",
       "      <td>...</td>\n",
       "      <td>...</td>\n",
       "      <td>...</td>\n",
       "      <td>...</td>\n",
       "      <td>...</td>\n",
       "      <td>...</td>\n",
       "      <td>...</td>\n",
       "      <td>...</td>\n",
       "    </tr>\n",
       "    <tr>\n",
       "      <th>494</th>\n",
       "      <td>govern</td>\n",
       "      <td>1990-09-24</td>\n",
       "      <td>M</td>\n",
       "      <td>2019-04-19</td>\n",
       "      <td>HC</td>\n",
       "      <td>16255.006092</td>\n",
       "      <td>8019.550734</td>\n",
       "      <td>28.567322</td>\n",
       "      <td>1846.088649</td>\n",
       "      <td>2298.415200</td>\n",
       "    </tr>\n",
       "    <tr>\n",
       "      <th>495</th>\n",
       "      <td>heart</td>\n",
       "      <td>1989-02-25</td>\n",
       "      <td>F</td>\n",
       "      <td>2019-12-27</td>\n",
       "      <td>SPR</td>\n",
       "      <td>12458.240743</td>\n",
       "      <td>6253.664430</td>\n",
       "      <td>30.834309</td>\n",
       "      <td>2933.335090</td>\n",
       "      <td>2645.445274</td>\n",
       "    </tr>\n",
       "    <tr>\n",
       "      <th>496</th>\n",
       "      <td>mention</td>\n",
       "      <td>1990-03-25</td>\n",
       "      <td>M</td>\n",
       "      <td>2018-09-02</td>\n",
       "      <td>HC</td>\n",
       "      <td>16424.422960</td>\n",
       "      <td>6971.222070</td>\n",
       "      <td>28.441378</td>\n",
       "      <td>2949.125739</td>\n",
       "      <td>2602.275135</td>\n",
       "    </tr>\n",
       "    <tr>\n",
       "      <th>497</th>\n",
       "      <td>same</td>\n",
       "      <td>2002-08-08</td>\n",
       "      <td>M</td>\n",
       "      <td>2018-01-01</td>\n",
       "      <td>SPR</td>\n",
       "      <td>13481.959952</td>\n",
       "      <td>7871.177863</td>\n",
       "      <td>15.400727</td>\n",
       "      <td>1867.104224</td>\n",
       "      <td>3020.098007</td>\n",
       "    </tr>\n",
       "    <tr>\n",
       "      <th>498</th>\n",
       "      <td>symptom</td>\n",
       "      <td>1987-05-05</td>\n",
       "      <td>M</td>\n",
       "      <td>2018-12-29</td>\n",
       "      <td>SPR</td>\n",
       "      <td>16012.720041</td>\n",
       "      <td>6828.433826</td>\n",
       "      <td>31.652943</td>\n",
       "      <td>2658.957544</td>\n",
       "      <td>1463.021055</td>\n",
       "    </tr>\n",
       "  </tbody>\n",
       "</table>\n",
       "<p>499 rows × 10 columns</p>\n",
       "</div>"
      ],
      "text/plain": [
       "         name        dob sex  scan_date group           ICV  thalamus_volume  \\\n",
       "0      spider 2003-01-09   M 2019-09-04    HC  14571.724058      7819.939517   \n",
       "1    february 1997-11-17   F 2019-05-21    HC  14050.024901      9775.751820   \n",
       "2    february 1997-11-17   F 2019-05-21    HC  14050.024901      9775.751820   \n",
       "3    february 2002-09-21   M 2019-08-07    HC  14160.306539      5650.184666   \n",
       "4    february 2002-09-21   M 2019-08-07    HC  14160.306539      5650.184666   \n",
       "..        ...        ...  ..        ...   ...           ...              ...   \n",
       "494    govern 1990-09-24   M 2019-04-19    HC  16255.006092      8019.550734   \n",
       "495     heart 1989-02-25   F 2019-12-27   SPR  12458.240743      6253.664430   \n",
       "496   mention 1990-03-25   M 2018-09-02    HC  16424.422960      6971.222070   \n",
       "497      same 2002-08-08   M 2018-01-01   SPR  13481.959952      7871.177863   \n",
       "498   symptom 1987-05-05   M 2018-12-29   SPR  16012.720041      6828.433826   \n",
       "\n",
       "           age  lh_hippo_volume  rh_hippo_volume  \n",
       "0    16.651950      2380.126429      2267.407187  \n",
       "1    21.506260      2279.223884      2480.568961  \n",
       "2    21.506260      2283.732459      2270.900726  \n",
       "3    16.876459      2279.223884      2480.568961  \n",
       "4    16.876459      2283.732459      2270.900726  \n",
       "..         ...              ...              ...  \n",
       "494  28.567322      1846.088649      2298.415200  \n",
       "495  30.834309      2933.335090      2645.445274  \n",
       "496  28.441378      2949.125739      2602.275135  \n",
       "497  15.400727      1867.104224      3020.098007  \n",
       "498  31.652943      2658.957544      1463.021055  \n",
       "\n",
       "[499 rows x 10 columns]"
      ]
     },
     "execution_count": 115,
     "metadata": {},
     "output_type": "execute_result"
    }
   ],
   "source": [
    "pd.merge(demo_df,new_df, on='name')"
   ]
  },
  {
   "cell_type": "code",
   "execution_count": 117,
   "metadata": {},
   "outputs": [],
   "source": [
    "url='C:\\\\Users\\DELL\\Desktop\\data2\\python_4\\example_qc_table.csv'\n",
    "df=pd.read_csv(url,error_bad_lines=False, index_col=0)"
   ]
  },
  {
   "cell_type": "code",
   "execution_count": 118,
   "metadata": {},
   "outputs": [
    {
     "data": {
      "text/html": [
       "<div>\n",
       "<style scoped>\n",
       "    .dataframe tbody tr th:only-of-type {\n",
       "        vertical-align: middle;\n",
       "    }\n",
       "\n",
       "    .dataframe tbody tr th {\n",
       "        vertical-align: top;\n",
       "    }\n",
       "\n",
       "    .dataframe thead th {\n",
       "        text-align: right;\n",
       "    }\n",
       "</style>\n",
       "<table border=\"1\" class=\"dataframe\">\n",
       "  <thead>\n",
       "    <tr style=\"text-align: right;\">\n",
       "      <th></th>\n",
       "      <th>name</th>\n",
       "      <th>array.shape</th>\n",
       "      <th>volumes</th>\n",
       "      <th>diffusion.bvals</th>\n",
       "      <th>b0.num</th>\n",
       "      <th>b0.vol</th>\n",
       "      <th>bvec.shape</th>\n",
       "      <th>model</th>\n",
       "      <th>QC_score</th>\n",
       "      <th>comment_directions</th>\n",
       "      <th>QC_score_average</th>\n",
       "      <th>site</th>\n",
       "    </tr>\n",
       "  </thead>\n",
       "  <tbody>\n",
       "    <tr>\n",
       "      <th>0</th>\n",
       "      <td>spider</td>\n",
       "      <td>(96, 96, 54, 66)</td>\n",
       "      <td>66</td>\n",
       "      <td>[ 0. 800. 800. 800. 800. 800. 800. 800. 800. 8...</td>\n",
       "      <td>2.0</td>\n",
       "      <td>[ 0 65]</td>\n",
       "      <td>(3, 66)</td>\n",
       "      <td>NaN</td>\n",
       "      <td>2</td>\n",
       "      <td>uppest 8 rows of voxels are missing, severe mo...</td>\n",
       "      <td>2.00</td>\n",
       "      <td>site 1</td>\n",
       "    </tr>\n",
       "    <tr>\n",
       "      <th>3</th>\n",
       "      <td>estate</td>\n",
       "      <td>(128, 96, 56, 67)</td>\n",
       "      <td>67</td>\n",
       "      <td>[ 0. 0. 0. 800. 800. 800. 800. 800. 800. 800. ...</td>\n",
       "      <td>3.0</td>\n",
       "      <td>[0 1 2]</td>\n",
       "      <td>(3, 67)</td>\n",
       "      <td>NaN</td>\n",
       "      <td>1-3</td>\n",
       "      <td>signal-dropout (17), ghosting ([57 66 55 25], ...</td>\n",
       "      <td>2.00</td>\n",
       "      <td>site 2</td>\n",
       "    </tr>\n",
       "    <tr>\n",
       "      <th>4</th>\n",
       "      <td>machine</td>\n",
       "      <td>(80, 80, 70, 65)</td>\n",
       "      <td>65</td>\n",
       "      <td>[800. 800. 800. 800. 800. 800. 800. 800. 800. ...</td>\n",
       "      <td>1.0</td>\n",
       "      <td>[41]</td>\n",
       "      <td>(3, 65)</td>\n",
       "      <td>Ingenia</td>\n",
       "      <td>3</td>\n",
       "      <td>signal-dropout (20, 28, 32, 45, 53, 58), sligh...</td>\n",
       "      <td>3.00</td>\n",
       "      <td>site 3</td>\n",
       "    </tr>\n",
       "    <tr>\n",
       "      <th>5</th>\n",
       "      <td>stamp</td>\n",
       "      <td>(80, 80, 70, 66)</td>\n",
       "      <td>66</td>\n",
       "      <td>[800. 800. 800. 800. 800. 800. 800. 800. 800. ...</td>\n",
       "      <td>2.0</td>\n",
       "      <td>[20 65]</td>\n",
       "      <td>(3, 66)</td>\n",
       "      <td>Ingenia</td>\n",
       "      <td>2.5</td>\n",
       "      <td>moderate motion (0-65), signal-dropout (1,3, 5...</td>\n",
       "      <td>2.50</td>\n",
       "      <td>site 3</td>\n",
       "    </tr>\n",
       "    <tr>\n",
       "      <th>6</th>\n",
       "      <td>flight</td>\n",
       "      <td>(80, 80, 70, 65)</td>\n",
       "      <td>65</td>\n",
       "      <td>[800. 800. 800. 800. 800. 800. 800. 800. 800. ...</td>\n",
       "      <td>1.0</td>\n",
       "      <td>[41]</td>\n",
       "      <td>(3, 65)</td>\n",
       "      <td>Ingenia</td>\n",
       "      <td>3</td>\n",
       "      <td>slight motion (0,1,3,6,7,8,11,17,18,20-22,25,2...</td>\n",
       "      <td>3.00</td>\n",
       "      <td>site 3</td>\n",
       "    </tr>\n",
       "    <tr>\n",
       "      <th>...</th>\n",
       "      <td>...</td>\n",
       "      <td>...</td>\n",
       "      <td>...</td>\n",
       "      <td>...</td>\n",
       "      <td>...</td>\n",
       "      <td>...</td>\n",
       "      <td>...</td>\n",
       "      <td>...</td>\n",
       "      <td>...</td>\n",
       "      <td>...</td>\n",
       "      <td>...</td>\n",
       "      <td>...</td>\n",
       "    </tr>\n",
       "    <tr>\n",
       "      <th>404</th>\n",
       "      <td>mention</td>\n",
       "      <td>(96, 96, 54, 66)</td>\n",
       "      <td>66</td>\n",
       "      <td>[0.e+00 8.e+02 8.e+02 8.e+02 8.e+02 8.e+02 8.e...</td>\n",
       "      <td>1.0</td>\n",
       "      <td>[0]</td>\n",
       "      <td>(3, 66)</td>\n",
       "      <td>Achieva</td>\n",
       "      <td>1-2</td>\n",
       "      <td>lowest 5 rows of voxels are missing, slight ep...</td>\n",
       "      <td>1.50</td>\n",
       "      <td>site 8</td>\n",
       "    </tr>\n",
       "    <tr>\n",
       "      <th>405</th>\n",
       "      <td>same</td>\n",
       "      <td>(96, 96, 54, 66)</td>\n",
       "      <td>66</td>\n",
       "      <td>[0.e+00 8.e+02 8.e+02 8.e+02 8.e+02 8.e+02 8.e...</td>\n",
       "      <td>1.0</td>\n",
       "      <td>[0]</td>\n",
       "      <td>(3, 66)</td>\n",
       "      <td>Achieva</td>\n",
       "      <td>1-2</td>\n",
       "      <td>epi-distortion, signal-dropout (1, 5-11, 14, 1...</td>\n",
       "      <td>1.50</td>\n",
       "      <td>site 8</td>\n",
       "    </tr>\n",
       "    <tr>\n",
       "      <th>406</th>\n",
       "      <td>convince</td>\n",
       "      <td>(96, 96, 54, 66)</td>\n",
       "      <td>66</td>\n",
       "      <td>[0.e+00 8.e+02 8.e+02 8.e+02 8.e+02 8.e+02 8.e...</td>\n",
       "      <td>1.0</td>\n",
       "      <td>[0]</td>\n",
       "      <td>(3, 66)</td>\n",
       "      <td>Achieva</td>\n",
       "      <td>1-2</td>\n",
       "      <td>signal-dropout (5-8, 16-18, 22,26,27, 33, 35-4...</td>\n",
       "      <td>1.50</td>\n",
       "      <td>site 8</td>\n",
       "    </tr>\n",
       "    <tr>\n",
       "      <th>407</th>\n",
       "      <td>symptom</td>\n",
       "      <td>(96, 96, 54, 66)</td>\n",
       "      <td>66</td>\n",
       "      <td>[0.e+00 8.e+02 8.e+02 8.e+02 8.e+02 8.e+02 8.e...</td>\n",
       "      <td>1.0</td>\n",
       "      <td>[0]</td>\n",
       "      <td>(3, 66)</td>\n",
       "      <td>Achieva</td>\n",
       "      <td>1-1.5</td>\n",
       "      <td>slight epi-distortion, signal-dropout(4-8, 11-...</td>\n",
       "      <td>1.25</td>\n",
       "      <td>site 8</td>\n",
       "    </tr>\n",
       "    <tr>\n",
       "      <th>408</th>\n",
       "      <td>pill</td>\n",
       "      <td>(96, 96, 54, 66)</td>\n",
       "      <td>66</td>\n",
       "      <td>[0.e+00 8.e+02 8.e+02 8.e+02 8.e+02 8.e+02 8.e...</td>\n",
       "      <td>1.0</td>\n",
       "      <td>[0]</td>\n",
       "      <td>(3, 66)</td>\n",
       "      <td>Achieva</td>\n",
       "      <td>1-2</td>\n",
       "      <td>epi-distortion, signal-dropout (3-8, 10,11, 13...</td>\n",
       "      <td>1.50</td>\n",
       "      <td>site 8</td>\n",
       "    </tr>\n",
       "  </tbody>\n",
       "</table>\n",
       "<p>407 rows × 12 columns</p>\n",
       "</div>"
      ],
      "text/plain": [
       "         name        array.shape volumes  \\\n",
       "0      spider   (96, 96, 54, 66)      66   \n",
       "3      estate  (128, 96, 56, 67)      67   \n",
       "4     machine   (80, 80, 70, 65)      65   \n",
       "5       stamp   (80, 80, 70, 66)      66   \n",
       "6      flight   (80, 80, 70, 65)      65   \n",
       "..        ...                ...     ...   \n",
       "404   mention   (96, 96, 54, 66)      66   \n",
       "405      same   (96, 96, 54, 66)      66   \n",
       "406  convince   (96, 96, 54, 66)      66   \n",
       "407   symptom   (96, 96, 54, 66)      66   \n",
       "408      pill   (96, 96, 54, 66)      66   \n",
       "\n",
       "                                       diffusion.bvals  b0.num   b0.vol  \\\n",
       "0    [ 0. 800. 800. 800. 800. 800. 800. 800. 800. 8...     2.0  [ 0 65]   \n",
       "3    [ 0. 0. 0. 800. 800. 800. 800. 800. 800. 800. ...     3.0  [0 1 2]   \n",
       "4    [800. 800. 800. 800. 800. 800. 800. 800. 800. ...     1.0     [41]   \n",
       "5    [800. 800. 800. 800. 800. 800. 800. 800. 800. ...     2.0  [20 65]   \n",
       "6    [800. 800. 800. 800. 800. 800. 800. 800. 800. ...     1.0     [41]   \n",
       "..                                                 ...     ...      ...   \n",
       "404  [0.e+00 8.e+02 8.e+02 8.e+02 8.e+02 8.e+02 8.e...     1.0      [0]   \n",
       "405  [0.e+00 8.e+02 8.e+02 8.e+02 8.e+02 8.e+02 8.e...     1.0      [0]   \n",
       "406  [0.e+00 8.e+02 8.e+02 8.e+02 8.e+02 8.e+02 8.e...     1.0      [0]   \n",
       "407  [0.e+00 8.e+02 8.e+02 8.e+02 8.e+02 8.e+02 8.e...     1.0      [0]   \n",
       "408  [0.e+00 8.e+02 8.e+02 8.e+02 8.e+02 8.e+02 8.e...     1.0      [0]   \n",
       "\n",
       "    bvec.shape    model QC_score  \\\n",
       "0      (3, 66)      NaN        2   \n",
       "3      (3, 67)      NaN      1-3   \n",
       "4      (3, 65)  Ingenia        3   \n",
       "5      (3, 66)  Ingenia      2.5   \n",
       "6      (3, 65)  Ingenia        3   \n",
       "..         ...      ...      ...   \n",
       "404    (3, 66)  Achieva      1-2   \n",
       "405    (3, 66)  Achieva      1-2   \n",
       "406    (3, 66)  Achieva      1-2   \n",
       "407    (3, 66)  Achieva    1-1.5   \n",
       "408    (3, 66)  Achieva      1-2   \n",
       "\n",
       "                                    comment_directions  QC_score_average  \\\n",
       "0    uppest 8 rows of voxels are missing, severe mo...              2.00   \n",
       "3    signal-dropout (17), ghosting ([57 66 55 25], ...              2.00   \n",
       "4    signal-dropout (20, 28, 32, 45, 53, 58), sligh...              3.00   \n",
       "5    moderate motion (0-65), signal-dropout (1,3, 5...              2.50   \n",
       "6    slight motion (0,1,3,6,7,8,11,17,18,20-22,25,2...              3.00   \n",
       "..                                                 ...               ...   \n",
       "404  lowest 5 rows of voxels are missing, slight ep...              1.50   \n",
       "405  epi-distortion, signal-dropout (1, 5-11, 14, 1...              1.50   \n",
       "406  signal-dropout (5-8, 16-18, 22,26,27, 33, 35-4...              1.50   \n",
       "407  slight epi-distortion, signal-dropout(4-8, 11-...              1.25   \n",
       "408  epi-distortion, signal-dropout (3-8, 10,11, 13...              1.50   \n",
       "\n",
       "       site  \n",
       "0    site 1  \n",
       "3    site 2  \n",
       "4    site 3  \n",
       "5    site 3  \n",
       "6    site 3  \n",
       "..      ...  \n",
       "404  site 8  \n",
       "405  site 8  \n",
       "406  site 8  \n",
       "407  site 8  \n",
       "408  site 8  \n",
       "\n",
       "[407 rows x 12 columns]"
      ]
     },
     "execution_count": 118,
     "metadata": {},
     "output_type": "execute_result"
    }
   ],
   "source": [
    "df"
   ]
  },
  {
   "cell_type": "code",
   "execution_count": 119,
   "metadata": {},
   "outputs": [
    {
     "data": {
      "text/plain": [
       "<matplotlib.axes._subplots.AxesSubplot at 0x1fa670a9a30>"
      ]
     },
     "execution_count": 119,
     "metadata": {},
     "output_type": "execute_result"
    },
    {
     "data": {
      "image/png": "[encoded data removed]",
      "text/plain": [
       "<Figure size 432x288 with 1 Axes>"
      ]
     },
     "metadata": {
      "needs_background": "light"
     },
     "output_type": "display_data"
    }
   ],
   "source": [
    "sns.countplot(x='QC_score_average',data=df)"
   ]
  },
  {
   "cell_type": "code",
   "execution_count": 122,
   "metadata": {},
   "outputs": [
    {
     "data": {
      "text/html": [
       "<div>\n",
       "<style scoped>\n",
       "    .dataframe tbody tr th:only-of-type {\n",
       "        vertical-align: middle;\n",
       "    }\n",
       "\n",
       "    .dataframe tbody tr th {\n",
       "        vertical-align: top;\n",
       "    }\n",
       "\n",
       "    .dataframe thead th {\n",
       "        text-align: right;\n",
       "    }\n",
       "</style>\n",
       "<table border=\"1\" class=\"dataframe\">\n",
       "  <thead>\n",
       "    <tr style=\"text-align: right;\">\n",
       "      <th></th>\n",
       "      <th>site</th>\n",
       "      <th>QC_score_average</th>\n",
       "      <th>name</th>\n",
       "      <th>array.shape</th>\n",
       "      <th>volumes</th>\n",
       "      <th>diffusion.bvals</th>\n",
       "      <th>b0.num</th>\n",
       "      <th>b0.vol</th>\n",
       "      <th>bvec.shape</th>\n",
       "      <th>model</th>\n",
       "      <th>QC_score</th>\n",
       "      <th>comment_directions</th>\n",
       "    </tr>\n",
       "  </thead>\n",
       "  <tbody>\n",
       "    <tr>\n",
       "      <th>0</th>\n",
       "      <td>site 1</td>\n",
       "      <td>1.50</td>\n",
       "      <td>10</td>\n",
       "      <td>10</td>\n",
       "      <td>10</td>\n",
       "      <td>10</td>\n",
       "      <td>10</td>\n",
       "      <td>10</td>\n",
       "      <td>10</td>\n",
       "      <td>10</td>\n",
       "      <td>10</td>\n",
       "      <td>10</td>\n",
       "    </tr>\n",
       "    <tr>\n",
       "      <th>1</th>\n",
       "      <td>site 1</td>\n",
       "      <td>2.00</td>\n",
       "      <td>11</td>\n",
       "      <td>11</td>\n",
       "      <td>11</td>\n",
       "      <td>11</td>\n",
       "      <td>11</td>\n",
       "      <td>11</td>\n",
       "      <td>11</td>\n",
       "      <td>10</td>\n",
       "      <td>11</td>\n",
       "      <td>11</td>\n",
       "    </tr>\n",
       "    <tr>\n",
       "      <th>2</th>\n",
       "      <td>site 2</td>\n",
       "      <td>1.50</td>\n",
       "      <td>9</td>\n",
       "      <td>9</td>\n",
       "      <td>9</td>\n",
       "      <td>9</td>\n",
       "      <td>9</td>\n",
       "      <td>9</td>\n",
       "      <td>9</td>\n",
       "      <td>9</td>\n",
       "      <td>9</td>\n",
       "      <td>9</td>\n",
       "    </tr>\n",
       "    <tr>\n",
       "      <th>3</th>\n",
       "      <td>site 2</td>\n",
       "      <td>1.75</td>\n",
       "      <td>8</td>\n",
       "      <td>8</td>\n",
       "      <td>8</td>\n",
       "      <td>8</td>\n",
       "      <td>8</td>\n",
       "      <td>8</td>\n",
       "      <td>8</td>\n",
       "      <td>8</td>\n",
       "      <td>8</td>\n",
       "      <td>8</td>\n",
       "    </tr>\n",
       "    <tr>\n",
       "      <th>4</th>\n",
       "      <td>site 2</td>\n",
       "      <td>2.00</td>\n",
       "      <td>2</td>\n",
       "      <td>2</td>\n",
       "      <td>2</td>\n",
       "      <td>2</td>\n",
       "      <td>2</td>\n",
       "      <td>2</td>\n",
       "      <td>2</td>\n",
       "      <td>1</td>\n",
       "      <td>2</td>\n",
       "      <td>2</td>\n",
       "    </tr>\n",
       "    <tr>\n",
       "      <th>5</th>\n",
       "      <td>site 2</td>\n",
       "      <td>2.50</td>\n",
       "      <td>13</td>\n",
       "      <td>13</td>\n",
       "      <td>13</td>\n",
       "      <td>13</td>\n",
       "      <td>13</td>\n",
       "      <td>13</td>\n",
       "      <td>13</td>\n",
       "      <td>13</td>\n",
       "      <td>13</td>\n",
       "      <td>13</td>\n",
       "    </tr>\n",
       "    <tr>\n",
       "      <th>6</th>\n",
       "      <td>site 2</td>\n",
       "      <td>3.00</td>\n",
       "      <td>26</td>\n",
       "      <td>26</td>\n",
       "      <td>26</td>\n",
       "      <td>26</td>\n",
       "      <td>26</td>\n",
       "      <td>26</td>\n",
       "      <td>26</td>\n",
       "      <td>26</td>\n",
       "      <td>26</td>\n",
       "      <td>26</td>\n",
       "    </tr>\n",
       "    <tr>\n",
       "      <th>7</th>\n",
       "      <td>site 2</td>\n",
       "      <td>3.50</td>\n",
       "      <td>4</td>\n",
       "      <td>4</td>\n",
       "      <td>4</td>\n",
       "      <td>4</td>\n",
       "      <td>4</td>\n",
       "      <td>4</td>\n",
       "      <td>4</td>\n",
       "      <td>4</td>\n",
       "      <td>4</td>\n",
       "      <td>4</td>\n",
       "    </tr>\n",
       "    <tr>\n",
       "      <th>8</th>\n",
       "      <td>site 3</td>\n",
       "      <td>1.00</td>\n",
       "      <td>1</td>\n",
       "      <td>1</td>\n",
       "      <td>1</td>\n",
       "      <td>1</td>\n",
       "      <td>1</td>\n",
       "      <td>1</td>\n",
       "      <td>1</td>\n",
       "      <td>1</td>\n",
       "      <td>1</td>\n",
       "      <td>1</td>\n",
       "    </tr>\n",
       "    <tr>\n",
       "      <th>9</th>\n",
       "      <td>site 3</td>\n",
       "      <td>1.50</td>\n",
       "      <td>5</td>\n",
       "      <td>5</td>\n",
       "      <td>5</td>\n",
       "      <td>5</td>\n",
       "      <td>5</td>\n",
       "      <td>5</td>\n",
       "      <td>5</td>\n",
       "      <td>5</td>\n",
       "      <td>5</td>\n",
       "      <td>5</td>\n",
       "    </tr>\n",
       "    <tr>\n",
       "      <th>10</th>\n",
       "      <td>site 3</td>\n",
       "      <td>1.75</td>\n",
       "      <td>4</td>\n",
       "      <td>4</td>\n",
       "      <td>4</td>\n",
       "      <td>4</td>\n",
       "      <td>4</td>\n",
       "      <td>4</td>\n",
       "      <td>4</td>\n",
       "      <td>4</td>\n",
       "      <td>4</td>\n",
       "      <td>4</td>\n",
       "    </tr>\n",
       "    <tr>\n",
       "      <th>11</th>\n",
       "      <td>site 3</td>\n",
       "      <td>2.00</td>\n",
       "      <td>9</td>\n",
       "      <td>9</td>\n",
       "      <td>9</td>\n",
       "      <td>9</td>\n",
       "      <td>9</td>\n",
       "      <td>9</td>\n",
       "      <td>9</td>\n",
       "      <td>9</td>\n",
       "      <td>9</td>\n",
       "      <td>9</td>\n",
       "    </tr>\n",
       "    <tr>\n",
       "      <th>12</th>\n",
       "      <td>site 3</td>\n",
       "      <td>2.50</td>\n",
       "      <td>14</td>\n",
       "      <td>14</td>\n",
       "      <td>14</td>\n",
       "      <td>14</td>\n",
       "      <td>14</td>\n",
       "      <td>14</td>\n",
       "      <td>14</td>\n",
       "      <td>14</td>\n",
       "      <td>14</td>\n",
       "      <td>14</td>\n",
       "    </tr>\n",
       "    <tr>\n",
       "      <th>13</th>\n",
       "      <td>site 3</td>\n",
       "      <td>3.00</td>\n",
       "      <td>25</td>\n",
       "      <td>25</td>\n",
       "      <td>25</td>\n",
       "      <td>25</td>\n",
       "      <td>25</td>\n",
       "      <td>25</td>\n",
       "      <td>25</td>\n",
       "      <td>25</td>\n",
       "      <td>25</td>\n",
       "      <td>25</td>\n",
       "    </tr>\n",
       "    <tr>\n",
       "      <th>14</th>\n",
       "      <td>site 3</td>\n",
       "      <td>3.50</td>\n",
       "      <td>6</td>\n",
       "      <td>6</td>\n",
       "      <td>6</td>\n",
       "      <td>6</td>\n",
       "      <td>6</td>\n",
       "      <td>6</td>\n",
       "      <td>6</td>\n",
       "      <td>6</td>\n",
       "      <td>6</td>\n",
       "      <td>6</td>\n",
       "    </tr>\n",
       "    <tr>\n",
       "      <th>15</th>\n",
       "      <td>site 4</td>\n",
       "      <td>1.00</td>\n",
       "      <td>3</td>\n",
       "      <td>3</td>\n",
       "      <td>3</td>\n",
       "      <td>3</td>\n",
       "      <td>3</td>\n",
       "      <td>3</td>\n",
       "      <td>3</td>\n",
       "      <td>3</td>\n",
       "      <td>3</td>\n",
       "      <td>2</td>\n",
       "    </tr>\n",
       "    <tr>\n",
       "      <th>16</th>\n",
       "      <td>site 4</td>\n",
       "      <td>1.50</td>\n",
       "      <td>16</td>\n",
       "      <td>16</td>\n",
       "      <td>16</td>\n",
       "      <td>16</td>\n",
       "      <td>16</td>\n",
       "      <td>16</td>\n",
       "      <td>16</td>\n",
       "      <td>16</td>\n",
       "      <td>16</td>\n",
       "      <td>16</td>\n",
       "    </tr>\n",
       "    <tr>\n",
       "      <th>17</th>\n",
       "      <td>site 4</td>\n",
       "      <td>2.00</td>\n",
       "      <td>27</td>\n",
       "      <td>27</td>\n",
       "      <td>27</td>\n",
       "      <td>27</td>\n",
       "      <td>27</td>\n",
       "      <td>27</td>\n",
       "      <td>27</td>\n",
       "      <td>27</td>\n",
       "      <td>27</td>\n",
       "      <td>27</td>\n",
       "    </tr>\n",
       "    <tr>\n",
       "      <th>18</th>\n",
       "      <td>site 4</td>\n",
       "      <td>2.50</td>\n",
       "      <td>21</td>\n",
       "      <td>21</td>\n",
       "      <td>21</td>\n",
       "      <td>21</td>\n",
       "      <td>21</td>\n",
       "      <td>21</td>\n",
       "      <td>21</td>\n",
       "      <td>20</td>\n",
       "      <td>21</td>\n",
       "      <td>21</td>\n",
       "    </tr>\n",
       "    <tr>\n",
       "      <th>19</th>\n",
       "      <td>site 4</td>\n",
       "      <td>3.00</td>\n",
       "      <td>6</td>\n",
       "      <td>6</td>\n",
       "      <td>6</td>\n",
       "      <td>6</td>\n",
       "      <td>6</td>\n",
       "      <td>6</td>\n",
       "      <td>6</td>\n",
       "      <td>6</td>\n",
       "      <td>6</td>\n",
       "      <td>6</td>\n",
       "    </tr>\n",
       "    <tr>\n",
       "      <th>20</th>\n",
       "      <td>site 5</td>\n",
       "      <td>2.50</td>\n",
       "      <td>1</td>\n",
       "      <td>1</td>\n",
       "      <td>1</td>\n",
       "      <td>1</td>\n",
       "      <td>1</td>\n",
       "      <td>1</td>\n",
       "      <td>1</td>\n",
       "      <td>1</td>\n",
       "      <td>1</td>\n",
       "      <td>1</td>\n",
       "    </tr>\n",
       "    <tr>\n",
       "      <th>21</th>\n",
       "      <td>site 5</td>\n",
       "      <td>3.00</td>\n",
       "      <td>10</td>\n",
       "      <td>10</td>\n",
       "      <td>10</td>\n",
       "      <td>10</td>\n",
       "      <td>10</td>\n",
       "      <td>10</td>\n",
       "      <td>10</td>\n",
       "      <td>10</td>\n",
       "      <td>10</td>\n",
       "      <td>10</td>\n",
       "    </tr>\n",
       "    <tr>\n",
       "      <th>22</th>\n",
       "      <td>site 5</td>\n",
       "      <td>3.50</td>\n",
       "      <td>1</td>\n",
       "      <td>1</td>\n",
       "      <td>1</td>\n",
       "      <td>1</td>\n",
       "      <td>1</td>\n",
       "      <td>1</td>\n",
       "      <td>1</td>\n",
       "      <td>1</td>\n",
       "      <td>1</td>\n",
       "      <td>1</td>\n",
       "    </tr>\n",
       "    <tr>\n",
       "      <th>23</th>\n",
       "      <td>site 6</td>\n",
       "      <td>1.00</td>\n",
       "      <td>2</td>\n",
       "      <td>2</td>\n",
       "      <td>2</td>\n",
       "      <td>2</td>\n",
       "      <td>2</td>\n",
       "      <td>2</td>\n",
       "      <td>2</td>\n",
       "      <td>2</td>\n",
       "      <td>2</td>\n",
       "      <td>2</td>\n",
       "    </tr>\n",
       "    <tr>\n",
       "      <th>24</th>\n",
       "      <td>site 6</td>\n",
       "      <td>1.25</td>\n",
       "      <td>1</td>\n",
       "      <td>1</td>\n",
       "      <td>1</td>\n",
       "      <td>1</td>\n",
       "      <td>1</td>\n",
       "      <td>1</td>\n",
       "      <td>1</td>\n",
       "      <td>1</td>\n",
       "      <td>1</td>\n",
       "      <td>1</td>\n",
       "    </tr>\n",
       "    <tr>\n",
       "      <th>25</th>\n",
       "      <td>site 6</td>\n",
       "      <td>1.50</td>\n",
       "      <td>10</td>\n",
       "      <td>10</td>\n",
       "      <td>10</td>\n",
       "      <td>10</td>\n",
       "      <td>10</td>\n",
       "      <td>10</td>\n",
       "      <td>10</td>\n",
       "      <td>10</td>\n",
       "      <td>10</td>\n",
       "      <td>10</td>\n",
       "    </tr>\n",
       "    <tr>\n",
       "      <th>26</th>\n",
       "      <td>site 6</td>\n",
       "      <td>2.00</td>\n",
       "      <td>26</td>\n",
       "      <td>26</td>\n",
       "      <td>26</td>\n",
       "      <td>26</td>\n",
       "      <td>26</td>\n",
       "      <td>26</td>\n",
       "      <td>26</td>\n",
       "      <td>26</td>\n",
       "      <td>26</td>\n",
       "      <td>26</td>\n",
       "    </tr>\n",
       "    <tr>\n",
       "      <th>27</th>\n",
       "      <td>site 6</td>\n",
       "      <td>2.50</td>\n",
       "      <td>7</td>\n",
       "      <td>7</td>\n",
       "      <td>7</td>\n",
       "      <td>7</td>\n",
       "      <td>7</td>\n",
       "      <td>7</td>\n",
       "      <td>7</td>\n",
       "      <td>7</td>\n",
       "      <td>7</td>\n",
       "      <td>7</td>\n",
       "    </tr>\n",
       "    <tr>\n",
       "      <th>28</th>\n",
       "      <td>site 6</td>\n",
       "      <td>3.00</td>\n",
       "      <td>3</td>\n",
       "      <td>3</td>\n",
       "      <td>3</td>\n",
       "      <td>3</td>\n",
       "      <td>3</td>\n",
       "      <td>3</td>\n",
       "      <td>3</td>\n",
       "      <td>3</td>\n",
       "      <td>3</td>\n",
       "      <td>3</td>\n",
       "    </tr>\n",
       "    <tr>\n",
       "      <th>29</th>\n",
       "      <td>site 7</td>\n",
       "      <td>1.25</td>\n",
       "      <td>7</td>\n",
       "      <td>7</td>\n",
       "      <td>7</td>\n",
       "      <td>7</td>\n",
       "      <td>7</td>\n",
       "      <td>7</td>\n",
       "      <td>7</td>\n",
       "      <td>7</td>\n",
       "      <td>7</td>\n",
       "      <td>7</td>\n",
       "    </tr>\n",
       "    <tr>\n",
       "      <th>30</th>\n",
       "      <td>site 7</td>\n",
       "      <td>1.50</td>\n",
       "      <td>9</td>\n",
       "      <td>9</td>\n",
       "      <td>9</td>\n",
       "      <td>9</td>\n",
       "      <td>9</td>\n",
       "      <td>9</td>\n",
       "      <td>9</td>\n",
       "      <td>9</td>\n",
       "      <td>9</td>\n",
       "      <td>9</td>\n",
       "    </tr>\n",
       "    <tr>\n",
       "      <th>31</th>\n",
       "      <td>site 7</td>\n",
       "      <td>1.75</td>\n",
       "      <td>15</td>\n",
       "      <td>15</td>\n",
       "      <td>15</td>\n",
       "      <td>15</td>\n",
       "      <td>15</td>\n",
       "      <td>15</td>\n",
       "      <td>15</td>\n",
       "      <td>15</td>\n",
       "      <td>15</td>\n",
       "      <td>15</td>\n",
       "    </tr>\n",
       "    <tr>\n",
       "      <th>32</th>\n",
       "      <td>site 7</td>\n",
       "      <td>2.00</td>\n",
       "      <td>8</td>\n",
       "      <td>8</td>\n",
       "      <td>8</td>\n",
       "      <td>8</td>\n",
       "      <td>8</td>\n",
       "      <td>8</td>\n",
       "      <td>8</td>\n",
       "      <td>8</td>\n",
       "      <td>8</td>\n",
       "      <td>8</td>\n",
       "    </tr>\n",
       "    <tr>\n",
       "      <th>33</th>\n",
       "      <td>site 7</td>\n",
       "      <td>2.50</td>\n",
       "      <td>12</td>\n",
       "      <td>12</td>\n",
       "      <td>12</td>\n",
       "      <td>12</td>\n",
       "      <td>12</td>\n",
       "      <td>12</td>\n",
       "      <td>12</td>\n",
       "      <td>12</td>\n",
       "      <td>12</td>\n",
       "      <td>12</td>\n",
       "    </tr>\n",
       "    <tr>\n",
       "      <th>34</th>\n",
       "      <td>site 7</td>\n",
       "      <td>3.00</td>\n",
       "      <td>2</td>\n",
       "      <td>2</td>\n",
       "      <td>2</td>\n",
       "      <td>2</td>\n",
       "      <td>2</td>\n",
       "      <td>2</td>\n",
       "      <td>2</td>\n",
       "      <td>2</td>\n",
       "      <td>2</td>\n",
       "      <td>2</td>\n",
       "    </tr>\n",
       "    <tr>\n",
       "      <th>35</th>\n",
       "      <td>site 8</td>\n",
       "      <td>1.00</td>\n",
       "      <td>1</td>\n",
       "      <td>1</td>\n",
       "      <td>1</td>\n",
       "      <td>1</td>\n",
       "      <td>1</td>\n",
       "      <td>1</td>\n",
       "      <td>1</td>\n",
       "      <td>1</td>\n",
       "      <td>1</td>\n",
       "      <td>0</td>\n",
       "    </tr>\n",
       "    <tr>\n",
       "      <th>36</th>\n",
       "      <td>site 8</td>\n",
       "      <td>1.25</td>\n",
       "      <td>4</td>\n",
       "      <td>4</td>\n",
       "      <td>4</td>\n",
       "      <td>4</td>\n",
       "      <td>4</td>\n",
       "      <td>4</td>\n",
       "      <td>4</td>\n",
       "      <td>4</td>\n",
       "      <td>4</td>\n",
       "      <td>4</td>\n",
       "    </tr>\n",
       "    <tr>\n",
       "      <th>37</th>\n",
       "      <td>site 8</td>\n",
       "      <td>1.50</td>\n",
       "      <td>56</td>\n",
       "      <td>56</td>\n",
       "      <td>56</td>\n",
       "      <td>56</td>\n",
       "      <td>56</td>\n",
       "      <td>56</td>\n",
       "      <td>56</td>\n",
       "      <td>56</td>\n",
       "      <td>56</td>\n",
       "      <td>56</td>\n",
       "    </tr>\n",
       "    <tr>\n",
       "      <th>38</th>\n",
       "      <td>site 8</td>\n",
       "      <td>1.75</td>\n",
       "      <td>4</td>\n",
       "      <td>4</td>\n",
       "      <td>4</td>\n",
       "      <td>4</td>\n",
       "      <td>4</td>\n",
       "      <td>4</td>\n",
       "      <td>4</td>\n",
       "      <td>4</td>\n",
       "      <td>4</td>\n",
       "      <td>4</td>\n",
       "    </tr>\n",
       "    <tr>\n",
       "      <th>39</th>\n",
       "      <td>site 8</td>\n",
       "      <td>2.00</td>\n",
       "      <td>8</td>\n",
       "      <td>8</td>\n",
       "      <td>8</td>\n",
       "      <td>8</td>\n",
       "      <td>8</td>\n",
       "      <td>8</td>\n",
       "      <td>8</td>\n",
       "      <td>8</td>\n",
       "      <td>8</td>\n",
       "      <td>8</td>\n",
       "    </tr>\n",
       "  </tbody>\n",
       "</table>\n",
       "</div>"
      ],
      "text/plain": [
       "      site  QC_score_average  name  array.shape  volumes  diffusion.bvals  \\\n",
       "0   site 1              1.50    10           10       10               10   \n",
       "1   site 1              2.00    11           11       11               11   \n",
       "2   site 2              1.50     9            9        9                9   \n",
       "3   site 2              1.75     8            8        8                8   \n",
       "4   site 2              2.00     2            2        2                2   \n",
       "5   site 2              2.50    13           13       13               13   \n",
       "6   site 2              3.00    26           26       26               26   \n",
       "7   site 2              3.50     4            4        4                4   \n",
       "8   site 3              1.00     1            1        1                1   \n",
       "9   site 3              1.50     5            5        5                5   \n",
       "10  site 3              1.75     4            4        4                4   \n",
       "11  site 3              2.00     9            9        9                9   \n",
       "12  site 3              2.50    14           14       14               14   \n",
       "13  site 3              3.00    25           25       25               25   \n",
       "14  site 3              3.50     6            6        6                6   \n",
       "15  site 4              1.00     3            3        3                3   \n",
       "16  site 4              1.50    16           16       16               16   \n",
       "17  site 4              2.00    27           27       27               27   \n",
       "18  site 4              2.50    21           21       21               21   \n",
       "19  site 4              3.00     6            6        6                6   \n",
       "20  site 5              2.50     1            1        1                1   \n",
       "21  site 5              3.00    10           10       10               10   \n",
       "22  site 5              3.50     1            1        1                1   \n",
       "23  site 6              1.00     2            2        2                2   \n",
       "24  site 6              1.25     1            1        1                1   \n",
       "25  site 6              1.50    10           10       10               10   \n",
       "26  site 6              2.00    26           26       26               26   \n",
       "27  site 6              2.50     7            7        7                7   \n",
       "28  site 6              3.00     3            3        3                3   \n",
       "29  site 7              1.25     7            7        7                7   \n",
       "30  site 7              1.50     9            9        9                9   \n",
       "31  site 7              1.75    15           15       15               15   \n",
       "32  site 7              2.00     8            8        8                8   \n",
       "33  site 7              2.50    12           12       12               12   \n",
       "34  site 7              3.00     2            2        2                2   \n",
       "35  site 8              1.00     1            1        1                1   \n",
       "36  site 8              1.25     4            4        4                4   \n",
       "37  site 8              1.50    56           56       56               56   \n",
       "38  site 8              1.75     4            4        4                4   \n",
       "39  site 8              2.00     8            8        8                8   \n",
       "\n",
       "    b0.num  b0.vol  bvec.shape  model  QC_score  comment_directions  \n",
       "0       10      10          10     10        10                  10  \n",
       "1       11      11          11     10        11                  11  \n",
       "2        9       9           9      9         9                   9  \n",
       "3        8       8           8      8         8                   8  \n",
       "4        2       2           2      1         2                   2  \n",
       "5       13      13          13     13        13                  13  \n",
       "6       26      26          26     26        26                  26  \n",
       "7        4       4           4      4         4                   4  \n",
       "8        1       1           1      1         1                   1  \n",
       "9        5       5           5      5         5                   5  \n",
       "10       4       4           4      4         4                   4  \n",
       "11       9       9           9      9         9                   9  \n",
       "12      14      14          14     14        14                  14  \n",
       "13      25      25          25     25        25                  25  \n",
       "14       6       6           6      6         6                   6  \n",
       "15       3       3           3      3         3                   2  \n",
       "16      16      16          16     16        16                  16  \n",
       "17      27      27          27     27        27                  27  \n",
       "18      21      21          21     20        21                  21  \n",
       "19       6       6           6      6         6                   6  \n",
       "20       1       1           1      1         1                   1  \n",
       "21      10      10          10     10        10                  10  \n",
       "22       1       1           1      1         1                   1  \n",
       "23       2       2           2      2         2                   2  \n",
       "24       1       1           1      1         1                   1  \n",
       "25      10      10          10     10        10                  10  \n",
       "26      26      26          26     26        26                  26  \n",
       "27       7       7           7      7         7                   7  \n",
       "28       3       3           3      3         3                   3  \n",
       "29       7       7           7      7         7                   7  \n",
       "30       9       9           9      9         9                   9  \n",
       "31      15      15          15     15        15                  15  \n",
       "32       8       8           8      8         8                   8  \n",
       "33      12      12          12     12        12                  12  \n",
       "34       2       2           2      2         2                   2  \n",
       "35       1       1           1      1         1                   0  \n",
       "36       4       4           4      4         4                   4  \n",
       "37      56      56          56     56        56                  56  \n",
       "38       4       4           4      4         4                   4  \n",
       "39       8       8           8      8         8                   8  "
      ]
     },
     "execution_count": 122,
     "metadata": {},
     "output_type": "execute_result"
    }
   ],
   "source": [
    "df.groupby(['site','QC_score_average']).count().reset_index()"
   ]
  },
  {
   "cell_type": "code",
   "execution_count": 124,
   "metadata": {},
   "outputs": [
    {
     "data": {
      "text/plain": [
       "<seaborn.axisgrid.FacetGrid at 0x1fa68d90b50>"
      ]
     },
     "execution_count": 124,
     "metadata": {},
     "output_type": "execute_result"
    },
    {
     "data": {
      "image/png": "[encoded data removed]",
      "text/plain": [
       "<Figure size 1080x1080 with 8 Axes>"
      ]
     },
     "metadata": {
      "needs_background": "light"
     },
     "output_type": "display_data"
    }
   ],
   "source": [
    "sns.catplot(x='QC_score_average',y='name',col='site',\n",
    "           col_wrap=3,\n",
    "           data=df.groupby(['site','QC_score_average']).count()['name'].reset_index(),\n",
    "           kind='bar')"
   ]
  },
  {
   "cell_type": "code",
   "execution_count": 125,
   "metadata": {},
   "outputs": [
    {
     "data": {
      "text/plain": [
       "0      uppest 8 rows of voxels are missing, severe mo...\n",
       "3      signal-dropout (17), ghosting ([57 66 55 25], ...\n",
       "4      signal-dropout (20, 28, 32, 45, 53, 58), sligh...\n",
       "5      moderate motion (0-65), signal-dropout (1,3, 5...\n",
       "6      slight motion (0,1,3,6,7,8,11,17,18,20-22,25,2...\n",
       "                             ...                        \n",
       "404    lowest 5 rows of voxels are missing, slight ep...\n",
       "405    epi-distortion, signal-dropout (1, 5-11, 14, 1...\n",
       "406    signal-dropout (5-8, 16-18, 22,26,27, 33, 35-4...\n",
       "407    slight epi-distortion, signal-dropout(4-8, 11-...\n",
       "408    epi-distortion, signal-dropout (3-8, 10,11, 13...\n",
       "Name: comment_directions, Length: 407, dtype: object"
      ]
     },
     "execution_count": 125,
     "metadata": {},
     "output_type": "execute_result"
    }
   ],
   "source": [
    "df.comment_directions"
   ]
  },
  {
   "cell_type": "code",
   "execution_count": null,
   "metadata": {},
   "outputs": [],
   "source": []
  }
 ],
 "metadata": {
  "kernelspec": {
   "display_name": "Python 3",
   "language": "python",
   "name": "python3"
  },
  "language_info": {
   "codemirror_mode": {
    "name": "ipython",
    "version": 3
   },
   "file_extension": ".py",
   "mimetype": "text/x-python",
   "name": "python",
   "nbconvert_exporter": "python",
   "pygments_lexer": "ipython3",
   "version": "3.8.3"
  }
 },
 "nbformat": 4,
 "nbformat_minor": 4
}
